{
 "cells": [
  {
   "cell_type": "markdown",
   "id": "pacific-requirement",
   "metadata": {},
   "source": [
    "# Preparación de los conjuntos de validación y entrenamiento/test"
   ]
  },
  {
   "cell_type": "markdown",
   "id": "anticipated-investment",
   "metadata": {},
   "source": [
    "En este notebook partiremos el dataset ya preprocesado en dos conjuntos diferentes, validación y entranamiento/test. Comenzamos importando todas las librerías necesarias."
   ]
  },
  {
   "cell_type": "code",
   "execution_count": 1,
   "id": "modern-closure",
   "metadata": {},
   "outputs": [],
   "source": [
    "import pandas as pd\n",
    "import random\n",
    "import matplotlib.pyplot as plt\n",
    "%matplotlib inline"
   ]
  },
  {
   "cell_type": "markdown",
   "id": "technical-homeless",
   "metadata": {},
   "source": [
    "Cargamos el pickle con el dataset preprocesado."
   ]
  },
  {
   "cell_type": "code",
   "execution_count": 2,
   "id": "failing-charleston",
   "metadata": {},
   "outputs": [],
   "source": [
    "df_INbreast = pd.read_pickle('./df_INbreast.pkl')"
   ]
  },
  {
   "cell_type": "markdown",
   "id": "expired-listening",
   "metadata": {},
   "source": [
    "Escogemos una fracción del 20% para cada una de las categorías para crear el conjunto de validación."
   ]
  },
  {
   "cell_type": "code",
   "execution_count": 3,
   "id": "fantastic-matter",
   "metadata": {},
   "outputs": [],
   "source": [
    "random_seed = 2021\n",
    "frac_val = .2\n",
    "casos_total = df_INbreast[['Bi-Rads']]\n",
    "casos_val = casos_total[casos_total['Bi-Rads'] == 'benigno'].sample(frac = frac_val, random_state = random_seed)\n",
    "casos_val = casos_val.append(casos_total[casos_total['Bi-Rads'] == 'seguimiento'].sample(frac = frac_val, random_state = random_seed))\n",
    "casos_val = casos_val.append(casos_total[casos_total['Bi-Rads'] == 'maligno'].sample(frac = frac_val, random_state = random_seed))"
   ]
  },
  {
   "cell_type": "markdown",
   "id": "composed-branch",
   "metadata": {},
   "source": [
    "Dividimos el dataset original en conjunto de validación y de entrenamiento/test."
   ]
  },
  {
   "cell_type": "code",
   "execution_count": 4,
   "id": "serious-devon",
   "metadata": {},
   "outputs": [],
   "source": [
    "df_INbreast_val = df_INbreast[df_INbreast.index.isin(casos_val.index)]\n",
    "df_INbreast = df_INbreast[~df_INbreast.index.isin(casos_val.index)]"
   ]
  },
  {
   "cell_type": "markdown",
   "id": "union-perfume",
   "metadata": {},
   "source": [
    "Mostramos por pantalla la cantidad de casos por cada etiqueta de la muestra que formarán el conjunto de entrenamiento/test y el de validación."
   ]
  },
  {
   "cell_type": "code",
   "execution_count": 5,
   "id": "square-robert",
   "metadata": {},
   "outputs": [
    {
     "data": {
      "text/plain": [
       "<AxesSubplot:title={'center':'Conjunto validación'}>"
      ]
     },
     "execution_count": 5,
     "metadata": {},
     "output_type": "execute_result"
    },
    {
     "data": {
      "image/png": "[encoded data removed]",
      "text/plain": [
       "<Figure size 1008x360 with 2 Axes>"
      ]
     },
     "metadata": {
      "needs_background": "light"
     },
     "output_type": "display_data"
    }
   ],
   "source": [
    "fig = plt.figure(figsize = (14, 5))\n",
    "plt.subplot(1, 2, 1)\n",
    "plt.title('Conjunto entrenamiento/test')\n",
    "df_INbreast['Bi-Rads'].value_counts().plot(kind = 'bar')\n",
    "plt.subplot(1, 2, 2)\n",
    "plt.title('Conjunto validación')\n",
    "df_INbreast_val['Bi-Rads'].value_counts().plot(kind = 'bar')"
   ]
  },
  {
   "cell_type": "code",
   "execution_count": 6,
   "id": "dynamic-ladder",
   "metadata": {},
   "outputs": [
    {
     "data": {
      "text/plain": [
       "<AxesSubplot:>"
      ]
     },
     "execution_count": 6,
     "metadata": {},
     "output_type": "execute_result"
    },
    {
     "data": {
      "image/png": "[encoded data removed]",
      "text/plain": [
       "<Figure size 432x288 with 1 Axes>"
      ]
     },
     "metadata": {
      "needs_background": "light"
     },
     "output_type": "display_data"
    }
   ],
   "source": [
    "df_INbreast_val['Bi-Rads'].value_counts().plot(kind = 'bar')"
   ]
  },
  {
   "cell_type": "markdown",
   "id": "dutch-confirmation",
   "metadata": {},
   "source": [
    "Almacenamos los dataset resultantes en ficheros pickle."
   ]
  },
  {
   "cell_type": "code",
   "execution_count": 7,
   "id": "empty-fourth",
   "metadata": {},
   "outputs": [],
   "source": [
    "df_INbreast_val.to_pickle('./df_INbreast_val.pkl')\n",
    "df_INbreast.to_pickle('./df_INbreast_train.pkl')"
   ]
  }
 ],
 "metadata": {
  "kernelspec": {
   "display_name": "Python 3",
   "language": "python",
   "name": "python3"
  },
  "language_info": {
   "codemirror_mode": {
    "name": "ipython",
    "version": 3
   },
   "file_extension": ".py",
   "mimetype": "text/x-python",
   "name": "python",
   "nbconvert_exporter": "python",
   "pygments_lexer": "ipython3",
   "version": "3.8.5"
  }
 },
 "nbformat": 4,
 "nbformat_minor": 5
}
