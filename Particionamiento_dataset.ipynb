{
 "cells": [
  {
   "cell_type": "markdown",
   "id": "beneficial-sacramento",
   "metadata": {},
   "source": [
    "# Preparación de los conjuntos de validación y entrenamiento/test"
   ]
  },
  {
   "cell_type": "code",
   "execution_count": 1,
   "id": "respected-lightweight",
   "metadata": {},
   "outputs": [],
   "source": [
    "import pandas as pd\n",
    "import random"
   ]
  },
  {
   "cell_type": "markdown",
   "id": "changed-skating",
   "metadata": {},
   "source": [
    "Cargamos el pickle con el dataset preprocesado."
   ]
  },
  {
   "cell_type": "code",
   "execution_count": 2,
   "id": "responsible-manor",
   "metadata": {},
   "outputs": [],
   "source": [
    "df_INbreast = pd.read_pickle('./df_INbreast.pkl')"
   ]
  },
  {
   "cell_type": "markdown",
   "id": "received-married",
   "metadata": {},
   "source": [
    "Escogemos una fracción del 20% para cada una de las categorías para crear el conjunto de validación."
   ]
  },
  {
   "cell_type": "code",
   "execution_count": 3,
   "id": "athletic-technician",
   "metadata": {},
   "outputs": [],
   "source": [
    "random_seed = 2021\n",
    "frac_val = .2\n",
    "casos_total = df_INbreast[['Bi-Rads']]\n",
    "casos_val = casos_total[casos_total['Bi-Rads'] == 'benigno'].sample(frac = frac_val, random_state = random_seed)\n",
    "casos_val = casos_val.append(casos_total[casos_total['Bi-Rads'] == 'control'].sample(frac = frac_val, random_state = random_seed))\n",
    "casos_val = casos_val.append(casos_total[casos_total['Bi-Rads'] == 'maligno'].sample(frac = frac_val, random_state = random_seed))"
   ]
  },
  {
   "cell_type": "markdown",
   "id": "compliant-variable",
   "metadata": {},
   "source": [
    "Dividimos el dataset original en conjunto de validación y de entrenamiento/test. Hacemos también la división de los conjuntos resultantes según su vista para facilitar el entrenamiento por separado de las dos ramas."
   ]
  },
  {
   "cell_type": "code",
   "execution_count": 4,
   "id": "ethical-letters",
   "metadata": {},
   "outputs": [],
   "source": [
    "df_INbreast_val = df_INbreast[df_INbreast.index.isin(casos_val.index)]\n",
    "df_INbreast = df_INbreast[~df_INbreast.index.isin(casos_val.index)]"
   ]
  },
  {
   "cell_type": "markdown",
   "id": "genuine-girlfriend",
   "metadata": {},
   "source": [
    "Mostramos por pantalla la cantidad de casos por cada categoría de la muestra que formará el conjunto de entrenamiento/test y el de validación."
   ]
  },
  {
   "cell_type": "code",
   "execution_count": 5,
   "id": "ready-merchant",
   "metadata": {},
   "outputs": [
    {
     "data": {
      "text/plain": [
       "<AxesSubplot:>"
      ]
     },
     "execution_count": 5,
     "metadata": {},
     "output_type": "execute_result"
    },
    {
     "data": {
      "image/png": "[encoded data removed]",
      "text/plain": [
       "<Figure size 432x288 with 1 Axes>"
      ]
     },
     "metadata": {
      "needs_background": "light"
     },
     "output_type": "display_data"
    }
   ],
   "source": [
    "df_INbreast['Bi-Rads'].value_counts().plot(kind = 'bar')"
   ]
  },
  {
   "cell_type": "code",
   "execution_count": 6,
   "id": "surrounded-adoption",
   "metadata": {},
   "outputs": [
    {
     "data": {
      "text/plain": [
       "<AxesSubplot:>"
      ]
     },
     "execution_count": 6,
     "metadata": {},
     "output_type": "execute_result"
    },
    {
     "data": {
      "image/png": "[encoded data removed]",
      "text/plain": [
       "<Figure size 432x288 with 1 Axes>"
      ]
     },
     "metadata": {
      "needs_background": "light"
     },
     "output_type": "display_data"
    }
   ],
   "source": [
    "df_INbreast_val['Bi-Rads'].value_counts().plot(kind = 'bar')"
   ]
  },
  {
   "cell_type": "markdown",
   "id": "functional-hampton",
   "metadata": {},
   "source": [
    "Almacenamos los dataset resultantes en ficheros pickle."
   ]
  },
  {
   "cell_type": "code",
   "execution_count": 7,
   "id": "seven-carter",
   "metadata": {},
   "outputs": [],
   "source": [
    "df_INbreast_val.to_pickle('./df_INbreast_val.pkl')\n",
    "df_INbreast.to_pickle('./df_INbreast_train.pkl')"
   ]
  }
 ],
 "metadata": {
  "kernelspec": {
   "display_name": "Python 3",
   "language": "python",
   "name": "python3"
  },
  "language_info": {
   "codemirror_mode": {
    "name": "ipython",
    "version": 3
   },
   "file_extension": ".py",
   "mimetype": "text/x-python",
   "name": "python",
   "nbconvert_exporter": "python",
   "pygments_lexer": "ipython3",
   "version": "3.8.5"
  }
 },
 "nbformat": 4,
 "nbformat_minor": 5
}
