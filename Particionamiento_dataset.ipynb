{
 "cells": [
  {
   "cell_type": "markdown",
   "id": "reverse-profile",
   "metadata": {},
   "source": [
    "# Preparación de los conjuntos de validación y entrenamiento/test"
   ]
  },
  {
   "cell_type": "code",
   "execution_count": 1,
   "id": "pediatric-shuttle",
   "metadata": {},
   "outputs": [],
   "source": [
    "import pandas as pd\n",
    "import random"
   ]
  },
  {
   "cell_type": "markdown",
   "id": "hired-jacket",
   "metadata": {},
   "source": [
    "Cargamos el pickle con el dataset preprocesado."
   ]
  },
  {
   "cell_type": "code",
   "execution_count": 2,
   "id": "remarkable-banking",
   "metadata": {},
   "outputs": [],
   "source": [
    "df_INbreast = pd.read_pickle('./df_INbreast.pkl')"
   ]
  },
  {
   "cell_type": "markdown",
   "id": "matched-broadway",
   "metadata": {},
   "source": [
    "Escogemos una fracción del 10% para cada una de las categorías para crear el conjunto de validación."
   ]
  },
  {
   "cell_type": "code",
   "execution_count": 3,
   "id": "proved-dayton",
   "metadata": {},
   "outputs": [],
   "source": [
    "random.seed(2021)\n",
    "fraccion = .1\n",
    "casos_total = df_INbreast[['Case ID', 'Bi-Rads']].drop_duplicates(subset = ['Case ID'])\n",
    "casos_val = casos_total[casos_total['Bi-Rads'] == 'benigno'].sample(frac = fraccion)[['Case ID', 'Bi-Rads']]\n",
    "casos_val = casos_val.append(casos_total[casos_total['Bi-Rads'] == 'maligno'].sample(frac = fraccion)[['Case ID', 'Bi-Rads']])\n",
    "casos_val = casos_val.append(casos_total[casos_total['Bi-Rads'] == 'actuación'].sample(frac = fraccion)[['Case ID', 'Bi-Rads']])\n",
    "casos_val = casos_val.append(casos_total[casos_total['Bi-Rads'] == 'control'].sample(frac = fraccion)[['Case ID', 'Bi-Rads']])"
   ]
  },
  {
   "cell_type": "markdown",
   "id": "southern-eclipse",
   "metadata": {},
   "source": [
    "Mostramos por pantalla la cantidad de casos por cada categoría de la muestra que formará el conjunto de validación."
   ]
  },
  {
   "cell_type": "code",
   "execution_count": 4,
   "id": "persistent-string",
   "metadata": {},
   "outputs": [
    {
     "data": {
      "text/plain": [
       "<AxesSubplot:>"
      ]
     },
     "execution_count": 4,
     "metadata": {},
     "output_type": "execute_result"
    },
    {
     "data": {
      "image/png": "[encoded data removed]",
      "text/plain": [
       "<Figure size 432x288 with 1 Axes>"
      ]
     },
     "metadata": {
      "needs_background": "light"
     },
     "output_type": "display_data"
    }
   ],
   "source": [
    "casos_val['Bi-Rads'].value_counts().plot(kind = 'bar')"
   ]
  },
  {
   "cell_type": "markdown",
   "id": "furnished-notice",
   "metadata": {},
   "source": [
    "Dividimos el dataset original en conjunto de validación y de entrenamiento/test. Hacemos también la división de los conjuntos resultantes según su vista para facilitar el entrenamiento por separado de las dos ramas."
   ]
  },
  {
   "cell_type": "code",
   "execution_count": 5,
   "id": "worthy-sigma",
   "metadata": {},
   "outputs": [],
   "source": [
    "df_INbreast_val = df_INbreast[df_INbreast['Case ID'].isin(casos_val['Case ID'])]\n",
    "df_INbreast = df_INbreast[~df_INbreast['Case ID'].isin(casos_val['Case ID'])]"
   ]
  },
  {
   "cell_type": "code",
   "execution_count": 6,
   "id": "suffering-notification",
   "metadata": {},
   "outputs": [],
   "source": [
    "df_INbreast_val_cc = df_INbreast_val[df_INbreast_val['View'] == 'CC']\n",
    "df_INbreast_val_mlo = df_INbreast_val[df_INbreast_val['View'] == 'MLO']\n",
    "df_INbreast_cc = df_INbreast[df_INbreast['View'] == 'CC']\n",
    "df_INbreast_mlo = df_INbreast[df_INbreast['View'] == 'MLO']"
   ]
  },
  {
   "cell_type": "markdown",
   "id": "integrated-royal",
   "metadata": {},
   "source": [
    "Almacenamos los dataset resultantes en ficheros pickle."
   ]
  },
  {
   "cell_type": "code",
   "execution_count": 7,
   "id": "acquired-example",
   "metadata": {},
   "outputs": [],
   "source": [
    "df_INbreast_val.to_pickle('./df_INbreast_val.pkl')\n",
    "df_INbreast_val_cc.to_pickle('./df_INbreast_val_cc.pkl')\n",
    "df_INbreast_val_mlo.to_pickle('./df_INbreast_val_mlo.pkl')\n",
    "df_INbreast.to_pickle('./df_INbreast_train.pkl')\n",
    "df_INbreast_cc.to_pickle('./df_INbreast_train_cc.pkl')\n",
    "df_INbreast_mlo.to_pickle('./df_INbreast_train_mlo.pkl')"
   ]
  }
 ],
 "metadata": {
  "kernelspec": {
   "display_name": "Python 3",
   "language": "python",
   "name": "python3"
  },
  "language_info": {
   "codemirror_mode": {
    "name": "ipython",
    "version": 3
   },
   "file_extension": ".py",
   "mimetype": "text/x-python",
   "name": "python",
   "nbconvert_exporter": "python",
   "pygments_lexer": "ipython3",
   "version": "3.8.5"
  }
 },
 "nbformat": 4,
 "nbformat_minor": 5
}
