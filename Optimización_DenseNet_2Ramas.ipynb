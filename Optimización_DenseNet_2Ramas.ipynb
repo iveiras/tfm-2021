{
 "cells": [
  {
   "cell_type": "markdown",
   "id": "exposed-generic",
   "metadata": {
    "id": "modular-forth"
   },
   "source": [
    "# Búsqueda de hiperparámetros para el entrenamiento de DenseNet para las dos vistas"
   ]
  },
  {
   "cell_type": "markdown",
   "id": "revised-notion",
   "metadata": {
    "id": "younger-sentence"
   },
   "source": [
    "Ajustamos el notebook según estemos trabajando en local o en un entorno de Google Colab."
   ]
  },
  {
   "cell_type": "code",
   "execution_count": 1,
   "id": "dominican-gauge",
   "metadata": {
    "id": "flying-consciousness"
   },
   "outputs": [],
   "source": [
    "google_colab = 0"
   ]
  },
  {
   "cell_type": "markdown",
   "id": "treated-bradford",
   "metadata": {},
   "source": [
    "Importamos todas las librerías necesarias para la implementación de la búsqueda de hiperparámetros de la red."
   ]
  },
  {
   "cell_type": "code",
   "execution_count": 2,
   "id": "pressing-locator",
   "metadata": {
    "colab": {
     "base_uri": "https://localhost:8080/"
    },
    "executionInfo": {
     "elapsed": 5748,
     "status": "ok",
     "timestamp": 1621164264052,
     "user": {
      "displayName": "Iago Veiras Lens",
      "photoUrl": "",
      "userId": "00127513713424041949"
     },
     "user_tz": -120
    },
    "id": "atomic-yukon",
    "outputId": "381db5dd-4276-4e31-b71b-0e6d9fc6e25f"
   },
   "outputs": [],
   "source": [
    "import tensorflow as tf\n",
    "import tensorflow.keras as K\n",
    "import pandas as pd\n",
    "import numpy as np\n",
    "from tensorflow.keras.callbacks import EarlyStopping, ReduceLROnPlateau\n",
    "import matplotlib.pyplot as plt\n",
    "%matplotlib inline\n",
    "from sklearn import metrics\n",
    "import itertools\n",
    "\n",
    "if google_colab:\n",
    "    from google.colab import drive\n",
    "    !pip install pickle5\n",
    "    import pickle5 as pickle\n",
    "    drive.mount('/content/gdrive')"
   ]
  },
  {
   "cell_type": "markdown",
   "id": "electronic-oracle",
   "metadata": {
    "id": "engaging-persian"
   },
   "source": [
    "##  Carga del dataset y preparación de los dataset"
   ]
  },
  {
   "cell_type": "markdown",
   "id": "durable-virtue",
   "metadata": {
    "id": "beautiful-monthly"
   },
   "source": [
    "Definimos una función auxiliar para ayudar con el preprocesamiento de los datos (ajuste de entrada para la DenseNet en el caso de las imágenes y conversión a one-hot encoding para las etiquetas)."
   ]
  },
  {
   "cell_type": "code",
   "execution_count": 3,
   "id": "recorded-particle",
   "metadata": {
    "id": "traditional-islam"
   },
   "outputs": [],
   "source": [
    "def preprocess_data(X_cc, X_mlo, Y):\n",
    "    \"\"\"\n",
    "    Pre-processes the data for the model\n",
    "        - X_cc is a numpy.ndarray of shape (m, 1024, 1024, 3) containing\n",
    "         the CC view mammography, where m is the number of data points\n",
    "        - X_mlo is a numpy.ndarray of shape (m, 1024, 1024, 3) containing\n",
    "         the MLO view mammography, where m is the number of data points\n",
    "        - Y is a numpy.ndarray of shape (m,) containing\n",
    "         the Bi-Rads labels for X\n",
    "    Returns:\n",
    "        - X_cc_p is a numpy.ndarray containing the preprocessed X_cc\n",
    "        - X_mlo_p is a numpy.ndarray containing the preprocessed X_mlo\n",
    "        - Y_p is a numpy.ndarray containing the preprocessed Y\n",
    "    \"\"\"\n",
    "    X_cc_p = K.applications.densenet.preprocess_input(X_cc)\n",
    "    X_mlo_p = K.applications.densenet.preprocess_input(X_mlo)\n",
    "\n",
    "    Y_p = K.utils.to_categorical(Y, 3)\n",
    "\n",
    "    return X_cc_p, X_mlo_p, Y_p"
   ]
  },
  {
   "cell_type": "markdown",
   "id": "collaborative-leone",
   "metadata": {
    "id": "mobile-monroe"
   },
   "source": [
    "Cargamos los ficheros de entrada, tanto el de entrenamiento-test como el de validación."
   ]
  },
  {
   "cell_type": "code",
   "execution_count": 4,
   "id": "mighty-grant",
   "metadata": {
    "id": "frequent-homework"
   },
   "outputs": [],
   "source": [
    "if google_colab:\n",
    "    with open('/content/gdrive/MyDrive/Colab Notebooks/df_INbreast_train.pkl', 'rb') as pickle_file:\n",
    "        df_INbreast_train = pickle.load(pickle_file)\n",
    "    with open('/content/gdrive/MyDrive/Colab Notebooks/df_INbreast_val.pkl', 'rb') as pickle_file:\n",
    "        df_INbreast_val = pickle.load(pickle_file)\n",
    "else:\n",
    "    df_INbreast_train = pd.read_pickle('./df_INbreast_train.pkl')\n",
    "    df_INbreast_val = pd.read_pickle('./df_INbreast_val.pkl')"
   ]
  },
  {
   "cell_type": "markdown",
   "id": "instant-pledge",
   "metadata": {
    "id": "contained-franchise"
   },
   "source": [
    "Cargamos los datos, convertimos las etiquetas a enteros y liberamos espacio de los ficheros que contenían el dataset."
   ]
  },
  {
   "cell_type": "code",
   "execution_count": 5,
   "id": "taken-easter",
   "metadata": {
    "id": "fatty-forwarding"
   },
   "outputs": [],
   "source": [
    "dict_valores = {'benigno': 0, 'seguimiento': 1, 'maligno': 2}\n",
    "Y_traintest = np.array(df_INbreast_train['Bi-Rads'].map(dict_valores).tolist())\n",
    "X_traintest_cc = np.array(df_INbreast_train['CC Image'].tolist())\n",
    "X_traintest_mlo = np.array(df_INbreast_train['MLO Image'].tolist())\n",
    "Y_val = np.array(df_INbreast_val['Bi-Rads'].map(dict_valores).tolist())\n",
    "X_val_cc = np.array(df_INbreast_val['CC Image'].tolist())\n",
    "X_val_mlo = np.array(df_INbreast_val['MLO Image'].tolist())\n",
    "X_val_cc, X_val_mlo, Y_val = preprocess_data(X_val_cc, X_val_mlo, Y_val)\n",
    "del df_INbreast_train\n",
    "del df_INbreast_val"
   ]
  },
  {
   "cell_type": "markdown",
   "id": "filled-cincinnati",
   "metadata": {
    "id": "W4IVXDMAOplr"
   },
   "source": [
    "## Definición de la arquitectura de red neuronal de dos ramas"
   ]
  },
  {
   "cell_type": "markdown",
   "id": "published-melissa",
   "metadata": {
    "id": "5moG-NYZcICz"
   },
   "source": [
    "Cargamos los modelos individuales de cada rama y definimos el nuevo modelo a partir de ellos, junto con el inicializador de los pesos de la capa conectada y el optimizador."
   ]
  },
  {
   "cell_type": "code",
   "execution_count": 6,
   "id": "hazardous-height",
   "metadata": {
    "id": "8Yka6jqyOtSx"
   },
   "outputs": [],
   "source": [
    "model_cc = K.models.load_model('/content/gdrive/MyDrive/Colab Notebooks/model_CC')\n",
    "model_mlo = K.models.load_model('/content/gdrive/MyDrive/Colab Notebooks/model_MLO')"
   ]
  },
  {
   "cell_type": "code",
   "execution_count": 7,
   "id": "regulated-hospital",
   "metadata": {
    "id": "7UvQIbcNPxqL"
   },
   "outputs": [],
   "source": [
    "def DenseNet_2Ramas(model_cc, model_mlo, rand_seed = 2021, learning_rate = 0.0001, momentum = 0.9):\n",
    "    \"\"\"\n",
    "    Define the DenseNet architecture and compile the model\n",
    "        - model_cc is the pretrained CC-view DenseNet model\n",
    "        - model_mlo is the pretrained MLO-view DenseNet model\n",
    "        - rand_seed is a random seed number used during the fc layer initialization\n",
    "        - learning_rate is the learning rate used during the training\n",
    "        - momentum is the parameters that defines the momentun for the SGD optimizer\n",
    "    Returns:\n",
    "        - model_2ramas is the output compiled DenseNet 2-branch model\n",
    "    \"\"\"\n",
    "    # Define the model architecture\n",
    "    model_cc = K.Sequential(model_cc.layers[:-1])\n",
    "    model_mlo = K.Sequential(model_mlo.layers[:-1])\n",
    "\n",
    "    model_cc.layers[-1]._name = model_cc.layers[-1].name + '_cc'\n",
    "    model_mlo.layers[-1]._name = model_mlo.layers[-1].name + '_mlo'\n",
    "\n",
    "    model_cc.trainable = False\n",
    "    model_mlo.trainable = False\n",
    "\n",
    "    combined = K.layers.Concatenate()([model_cc.output, model_mlo.output])\n",
    "    \n",
    "    initializer = K.initializers.he_normal(seed = rand_seed)\n",
    "    \n",
    "    fc_layer = K.layers.Dense(units = 3,\n",
    "                              activation = 'softmax',\n",
    "                              kernel_initializer = initializer\n",
    "                              )(combined)\n",
    "\n",
    "    model_2ramas = K.models.Model(inputs = [model_cc.input, model_mlo.input], outputs = fc_layer)\n",
    "\n",
    "    # Compile the model\n",
    "    opt = K.optimizers.SGD(learning_rate = learning_rate, momentum = momentum)\n",
    "    \n",
    "    model_2ramas.compile(loss = 'categorical_crossentropy',\n",
    "                         optimizer = opt,\n",
    "                         metrics = ['accuracy'])\n",
    "    \n",
    "    return model_2ramas"
   ]
  },
  {
   "cell_type": "markdown",
   "id": "annual-denial",
   "metadata": {
    "id": "LNizgVEZ5ENX"
   },
   "source": [
    "Mostramos por pantalla la arquitectura de la red definida."
   ]
  },
  {
   "cell_type": "code",
   "execution_count": 8,
   "id": "electric-editing",
   "metadata": {
    "colab": {
     "base_uri": "https://localhost:8080/"
    },
    "executionInfo": {
     "elapsed": 117242,
     "status": "ok",
     "timestamp": 1621183449716,
     "user": {
      "displayName": "Iago Veiras Lens",
      "photoUrl": "",
      "userId": "00127513713424041949"
     },
     "user_tz": -120
    },
    "id": "M_Sbv12gckjn",
    "outputId": "4e23e005-6b09-4247-e326-b538885bdfbb"
   },
   "outputs": [
    {
     "name": "stdout",
     "output_type": "stream",
     "text": [
      "Model: \"model\"\n",
      "__________________________________________________________________________________________________\n",
      "Layer (type)                    Output Shape         Param #     Connected to                     \n",
      "==================================================================================================\n",
      "input_4 (InputLayer)            [(None, 512, 512, 3) 0                                            \n",
      "__________________________________________________________________________________________________\n",
      "input_82 (InputLayer)           [(None, 512, 512, 3) 0                                            \n",
      "__________________________________________________________________________________________________\n",
      "resize_CC (Lambda)              (None, 256, 256, 3)  0           input_4[0][0]                    \n",
      "__________________________________________________________________________________________________\n",
      "resize_MLO (Lambda)             (None, 256, 256, 3)  0           input_82[0][0]                   \n",
      "__________________________________________________________________________________________________\n",
      "densenet121_cc (Functional)     (None, 1024)         7037504     resize_CC[1][0]                  \n",
      "__________________________________________________________________________________________________\n",
      "densenet121_mlo (Functional)    (None, 1024)         7037504     resize_MLO[1][0]                 \n",
      "__________________________________________________________________________________________________\n",
      "concatenate (Concatenate)       (None, 2048)         0           densenet121_cc[1][0]             \n",
      "                                                                 densenet121_mlo[1][0]            \n",
      "__________________________________________________________________________________________________\n",
      "dense (Dense)                   (None, 3)            6147        concatenate[0][0]                \n",
      "==================================================================================================\n",
      "Total params: 14,081,155\n",
      "Trainable params: 6,147\n",
      "Non-trainable params: 14,075,008\n",
      "__________________________________________________________________________________________________\n"
     ]
    }
   ],
   "source": [
    "DenseNet_2Ramas(model_cc, model_mlo).summary()"
   ]
  },
  {
   "cell_type": "markdown",
   "id": "postal-matrix",
   "metadata": {
    "id": "daily-secretariat"
   },
   "source": [
    "## Entrenamiento de la red neuronal"
   ]
  },
  {
   "cell_type": "markdown",
   "id": "according-victim",
   "metadata": {
    "id": "FuMQgi36S0eV"
   },
   "source": [
    "Definimos una función auxiliar que particiona el conjunto de entrenamiento/test en los dos subconjuntos correspondientes (entrenamiento y test)."
   ]
  },
  {
   "cell_type": "code",
   "execution_count": 9,
   "id": "manual-velvet",
   "metadata": {
    "id": "ZtW8KGwSS0eZ"
   },
   "outputs": [],
   "source": [
    "def part_traintest(X_traintest_cc, X_traintest_mlo, Y_traintest, rand_seed = 2021, frac_test = .2/.8):\n",
    "    \"\"\"\n",
    "    Function that makes a partition for training and testing from the original dataset\n",
    "        - X_traintest_cc is the array of CC-view images from the original dataset\n",
    "        - X_traintest_mlo is the array of MLO-view images from the original dataset\n",
    "        - Y_traintest is the array of labels from the original dataset\n",
    "        - rand_seed is a random seed number used during the sampling\n",
    "        - frac_test is the fraction of cases used in the test subset\n",
    "    Returns:\n",
    "        - X_train_cc is the train array of CC-images\n",
    "        - X_train_mlo is the train array of MLO-images\n",
    "        - Y_train is the train array of labels\n",
    "        - X_test_cc is the test array of CC-images\n",
    "        - X_test_mlo is the test array of MLO-images\n",
    "        - Y_test is the test array of labels\n",
    "    \"\"\"\n",
    "    np.random.seed(rand_seed)\n",
    "    index_test = np.array([], dtype = 'int64')\n",
    "    for i in np.unique(Y_traintest):\n",
    "        index_test = np.append(index_test, \n",
    "                               np.random.choice(list(np.where(Y_traintest == i)[0]), size = int(np.where(Y_traintest == i)[0].shape[0]*frac_test), replace = False))\n",
    "    X_train_cc = np.delete(X_traintest_cc, index_test, axis = 0)\n",
    "    X_train_mlo = np.delete(X_traintest_mlo, index_test, axis = 0)\n",
    "    Y_train = np.delete(Y_traintest, index_test)\n",
    "    X_test_cc = np.take(X_traintest_cc, index_test, axis = 0)\n",
    "    X_test_mlo = np.take(X_traintest_mlo, index_test, axis = 0)\n",
    "    Y_test = np.take(Y_traintest, index_test)\n",
    "    X_train_cc, X_train_mlo, Y_train = preprocess_data(X_train_cc, X_train_mlo, Y_train)\n",
    "    X_test_cc, X_test_mlo, Y_test = preprocess_data(X_test_cc, X_test_mlo, Y_test)\n",
    "\n",
    "    return X_train_cc, X_train_mlo, Y_train, X_test_cc, X_test_mlo, Y_test"
   ]
  },
  {
   "cell_type": "markdown",
   "id": "molecular-prayer",
   "metadata": {
    "id": "korean-press"
   },
   "source": [
    "Definimos los parámetros básicos para el proceso de entrenamiento."
   ]
  },
  {
   "cell_type": "code",
   "execution_count": 10,
   "id": "canadian-plant",
   "metadata": {
    "id": "incident-sender"
   },
   "outputs": [],
   "source": [
    "batch_size = 16\n",
    "no_epochs = 300\n",
    "rand_seed = 2021\n",
    "frac_test = .2/.8\n",
    "n_folds = 3\n",
    "learn_rate = [0.001]\n",
    "momentum = [0.5, 0.8]"
   ]
  },
  {
   "cell_type": "markdown",
   "id": "australian-hindu",
   "metadata": {
    "id": "0j95AaVx5bCa"
   },
   "source": [
    "Dado el desbalance que sufren las categorías de la muestra de entrenamiento, forzamos el balanceo calculando las proporciones respecto a la clase más representada."
   ]
  },
  {
   "cell_type": "code",
   "execution_count": 11,
   "id": "tender-potential",
   "metadata": {
    "id": "pb5VnDmd5bCe"
   },
   "outputs": [],
   "source": [
    "label, counts = np.unique(Y_traintest, return_counts = True)\n",
    "class_weight = {}\n",
    "for lab, con in zip(label, counts):\n",
    "  class_weight.update({lab: round(max(counts)/con, 2)})"
   ]
  },
  {
   "cell_type": "markdown",
   "id": "polish-popularity",
   "metadata": {
    "id": "GKOHQP5Q5e47"
   },
   "source": [
    "Definimos un callback para el entrenamiento de la red, de tal manera que nos aseguramos que el entrenamiento disminuye el learning rate cuando la pérdida sobre el conjutno de test ya no disminuye y detenemos el entrenamiento cuando dich pérdida tampoco disminuye."
   ]
  },
  {
   "cell_type": "code",
   "execution_count": 12,
   "id": "spoken-chamber",
   "metadata": {
    "id": "s_zS0yCB5gZ0"
   },
   "outputs": [],
   "source": [
    "early_stopping = EarlyStopping(patience = 20, restore_best_weights = True)\n",
    "reduce_lr = ReduceLROnPlateau(factor = 0.5, patience = 5)"
   ]
  },
  {
   "cell_type": "markdown",
   "id": "thrown-suggestion",
   "metadata": {
    "id": "yVvCVm45MlNh"
   },
   "source": [
    "Iteramos la definición y el entrenamiento de la red para no sesgar los resultados según el conjunto de entrenamiento y de test escogido en cada caso. Almacenamos el output de cada iteración para poder representarlos más adelante, evaluando cada red obtenida mediante el conjunto de validación."
   ]
  },
  {
   "cell_type": "code",
   "execution_count": 13,
   "id": "sound-fleet",
   "metadata": {
    "colab": {
     "base_uri": "https://localhost:8080/"
    },
    "executionInfo": {
     "elapsed": 1873748,
     "status": "ok",
     "timestamp": 1621185206275,
     "user": {
      "displayName": "Iago Veiras Lens",
      "photoUrl": "",
      "userId": "00127513713424041949"
     },
     "user_tz": -120
    },
    "id": "studied-billy",
    "outputId": "3a45132c-2546-48c5-e821-a0f25f18011b"
   },
   "outputs": [
    {
     "name": "stdout",
     "output_type": "stream",
     "text": [
      "------------------------------------------------------------------------\n",
      "Training for combination 1/2 ...\n",
      "Learning rate = 0.001\n",
      "Momentum = 0.5\n",
      "------------------------------------------------------------------------\n",
      "------------------------------------------------------------------------\n",
      "Training for fold 1/3 ...\n",
      "------------------------------------------------------------------------\n",
      "Epoch 1/300\n",
      "10/10 [==============================] - 35s 1s/step - loss: 0.3628 - accuracy: 0.9693 - val_loss: 0.6256 - val_accuracy: 0.7500\n",
      "Epoch 2/300\n",
      "10/10 [==============================] - 4s 427ms/step - loss: 0.2959 - accuracy: 0.9758 - val_loss: 0.6227 - val_accuracy: 0.8077\n",
      "Epoch 3/300\n",
      "10/10 [==============================] - 4s 428ms/step - loss: 0.2712 - accuracy: 0.9897 - val_loss: 0.5814 - val_accuracy: 0.8077\n",
      "Epoch 4/300\n",
      "10/10 [==============================] - 4s 427ms/step - loss: 0.2406 - accuracy: 0.9777 - val_loss: 0.5767 - val_accuracy: 0.8462\n",
      "Epoch 5/300\n",
      "10/10 [==============================] - 4s 429ms/step - loss: 0.2185 - accuracy: 0.9982 - val_loss: 0.5805 - val_accuracy: 0.8077\n",
      "Epoch 6/300\n",
      "10/10 [==============================] - 4s 433ms/step - loss: 0.2149 - accuracy: 0.9934 - val_loss: 0.5532 - val_accuracy: 0.8654\n",
      "Epoch 7/300\n",
      "10/10 [==============================] - 4s 430ms/step - loss: 0.1760 - accuracy: 1.0000 - val_loss: 0.5587 - val_accuracy: 0.8462\n",
      "Epoch 8/300\n",
      "10/10 [==============================] - 4s 431ms/step - loss: 0.1743 - accuracy: 1.0000 - val_loss: 0.5470 - val_accuracy: 0.8462\n",
      "Epoch 9/300\n",
      "10/10 [==============================] - 4s 429ms/step - loss: 0.1591 - accuracy: 1.0000 - val_loss: 0.5480 - val_accuracy: 0.8462\n",
      "Epoch 10/300\n",
      "10/10 [==============================] - 4s 431ms/step - loss: 0.1565 - accuracy: 1.0000 - val_loss: 0.5370 - val_accuracy: 0.8462\n",
      "Epoch 11/300\n",
      "10/10 [==============================] - 4s 430ms/step - loss: 0.1355 - accuracy: 1.0000 - val_loss: 0.5323 - val_accuracy: 0.8462\n",
      "Epoch 12/300\n",
      "10/10 [==============================] - 4s 427ms/step - loss: 0.1459 - accuracy: 1.0000 - val_loss: 0.5275 - val_accuracy: 0.8462\n",
      "Epoch 13/300\n",
      "10/10 [==============================] - 4s 431ms/step - loss: 0.1368 - accuracy: 1.0000 - val_loss: 0.5229 - val_accuracy: 0.8269\n",
      "Epoch 14/300\n",
      "10/10 [==============================] - 4s 429ms/step - loss: 0.1127 - accuracy: 1.0000 - val_loss: 0.5294 - val_accuracy: 0.8462\n",
      "Epoch 15/300\n",
      "10/10 [==============================] - 4s 431ms/step - loss: 0.1256 - accuracy: 1.0000 - val_loss: 0.5171 - val_accuracy: 0.8462\n",
      "Epoch 16/300\n",
      "10/10 [==============================] - 4s 430ms/step - loss: 0.1110 - accuracy: 1.0000 - val_loss: 0.5195 - val_accuracy: 0.8462\n",
      "Epoch 17/300\n",
      "10/10 [==============================] - 4s 429ms/step - loss: 0.1053 - accuracy: 1.0000 - val_loss: 0.5152 - val_accuracy: 0.8462\n",
      "Epoch 18/300\n",
      "10/10 [==============================] - 4s 429ms/step - loss: 0.1068 - accuracy: 1.0000 - val_loss: 0.5149 - val_accuracy: 0.8462\n",
      "Epoch 19/300\n",
      "10/10 [==============================] - 4s 427ms/step - loss: 0.1094 - accuracy: 1.0000 - val_loss: 0.5136 - val_accuracy: 0.8269\n",
      "Epoch 20/300\n",
      "10/10 [==============================] - 4s 430ms/step - loss: 0.1024 - accuracy: 1.0000 - val_loss: 0.5087 - val_accuracy: 0.8462\n",
      "Epoch 21/300\n",
      "10/10 [==============================] - 4s 429ms/step - loss: 0.0955 - accuracy: 1.0000 - val_loss: 0.5093 - val_accuracy: 0.8269\n",
      "Epoch 22/300\n",
      "10/10 [==============================] - 4s 430ms/step - loss: 0.1000 - accuracy: 1.0000 - val_loss: 0.5057 - val_accuracy: 0.8462\n",
      "Epoch 23/300\n",
      "10/10 [==============================] - 4s 430ms/step - loss: 0.0873 - accuracy: 1.0000 - val_loss: 0.5058 - val_accuracy: 0.8269\n",
      "Epoch 24/300\n",
      "10/10 [==============================] - 4s 431ms/step - loss: 0.0944 - accuracy: 1.0000 - val_loss: 0.5070 - val_accuracy: 0.8269\n",
      "Epoch 25/300\n",
      "10/10 [==============================] - 4s 428ms/step - loss: 0.0865 - accuracy: 1.0000 - val_loss: 0.5065 - val_accuracy: 0.8269\n",
      "Epoch 26/300\n",
      "10/10 [==============================] - 4s 431ms/step - loss: 0.0779 - accuracy: 1.0000 - val_loss: 0.5040 - val_accuracy: 0.8269\n",
      "Epoch 27/300\n",
      "10/10 [==============================] - 4s 427ms/step - loss: 0.0787 - accuracy: 1.0000 - val_loss: 0.4994 - val_accuracy: 0.8462\n",
      "Epoch 28/300\n",
      "10/10 [==============================] - 4s 426ms/step - loss: 0.0695 - accuracy: 1.0000 - val_loss: 0.5001 - val_accuracy: 0.8269\n",
      "Epoch 29/300\n",
      "10/10 [==============================] - 4s 429ms/step - loss: 0.0733 - accuracy: 1.0000 - val_loss: 0.4991 - val_accuracy: 0.8269\n",
      "Epoch 30/300\n",
      "10/10 [==============================] - 4s 426ms/step - loss: 0.0707 - accuracy: 1.0000 - val_loss: 0.4978 - val_accuracy: 0.8269\n",
      "Epoch 31/300\n",
      "10/10 [==============================] - 4s 428ms/step - loss: 0.0726 - accuracy: 1.0000 - val_loss: 0.4961 - val_accuracy: 0.8269\n",
      "Epoch 32/300\n",
      "10/10 [==============================] - 4s 428ms/step - loss: 0.0784 - accuracy: 1.0000 - val_loss: 0.4962 - val_accuracy: 0.8269\n",
      "Epoch 33/300\n",
      "10/10 [==============================] - 4s 431ms/step - loss: 0.0702 - accuracy: 1.0000 - val_loss: 0.4950 - val_accuracy: 0.8269\n",
      "Epoch 34/300\n",
      "10/10 [==============================] - 4s 428ms/step - loss: 0.0651 - accuracy: 1.0000 - val_loss: 0.4941 - val_accuracy: 0.8269\n",
      "Epoch 35/300\n",
      "10/10 [==============================] - 4s 427ms/step - loss: 0.0671 - accuracy: 1.0000 - val_loss: 0.4938 - val_accuracy: 0.8269\n",
      "Epoch 36/300\n",
      "10/10 [==============================] - 4s 430ms/step - loss: 0.0699 - accuracy: 1.0000 - val_loss: 0.4931 - val_accuracy: 0.8269\n",
      "Epoch 37/300\n",
      "10/10 [==============================] - 4s 427ms/step - loss: 0.0667 - accuracy: 1.0000 - val_loss: 0.4934 - val_accuracy: 0.8269\n",
      "Epoch 38/300\n",
      "10/10 [==============================] - 4s 429ms/step - loss: 0.0616 - accuracy: 1.0000 - val_loss: 0.4913 - val_accuracy: 0.8269\n",
      "Epoch 39/300\n",
      "10/10 [==============================] - 4s 429ms/step - loss: 0.0641 - accuracy: 1.0000 - val_loss: 0.4910 - val_accuracy: 0.8269\n",
      "Epoch 40/300\n",
      "10/10 [==============================] - 4s 430ms/step - loss: 0.0622 - accuracy: 1.0000 - val_loss: 0.4924 - val_accuracy: 0.8269\n",
      "Epoch 41/300\n",
      "10/10 [==============================] - 4s 428ms/step - loss: 0.0599 - accuracy: 1.0000 - val_loss: 0.4904 - val_accuracy: 0.8269\n",
      "Epoch 42/300\n",
      "10/10 [==============================] - 4s 424ms/step - loss: 0.0562 - accuracy: 1.0000 - val_loss: 0.4896 - val_accuracy: 0.8269\n",
      "Epoch 43/300\n",
      "10/10 [==============================] - 4s 429ms/step - loss: 0.0591 - accuracy: 1.0000 - val_loss: 0.4886 - val_accuracy: 0.8269\n",
      "Epoch 44/300\n",
      "10/10 [==============================] - 4s 423ms/step - loss: 0.0523 - accuracy: 1.0000 - val_loss: 0.4896 - val_accuracy: 0.8269\n",
      "Epoch 45/300\n",
      "10/10 [==============================] - 4s 430ms/step - loss: 0.0516 - accuracy: 1.0000 - val_loss: 0.4896 - val_accuracy: 0.8269\n",
      "Epoch 46/300\n",
      "10/10 [==============================] - 4s 430ms/step - loss: 0.0603 - accuracy: 1.0000 - val_loss: 0.4881 - val_accuracy: 0.8269\n",
      "Epoch 47/300\n",
      "10/10 [==============================] - 4s 426ms/step - loss: 0.0484 - accuracy: 1.0000 - val_loss: 0.4890 - val_accuracy: 0.8269\n",
      "Epoch 48/300\n",
      "10/10 [==============================] - 4s 430ms/step - loss: 0.0478 - accuracy: 1.0000 - val_loss: 0.4883 - val_accuracy: 0.8269\n",
      "Epoch 49/300\n",
      "10/10 [==============================] - 4s 429ms/step - loss: 0.0516 - accuracy: 1.0000 - val_loss: 0.4882 - val_accuracy: 0.8269\n",
      "Epoch 50/300\n",
      "10/10 [==============================] - 4s 428ms/step - loss: 0.0490 - accuracy: 1.0000 - val_loss: 0.4889 - val_accuracy: 0.8077\n",
      "Epoch 51/300\n",
      "10/10 [==============================] - 4s 427ms/step - loss: 0.0494 - accuracy: 1.0000 - val_loss: 0.4892 - val_accuracy: 0.8077\n",
      "Epoch 52/300\n",
      "10/10 [==============================] - 4s 426ms/step - loss: 0.0459 - accuracy: 1.0000 - val_loss: 0.4881 - val_accuracy: 0.8077\n",
      "Epoch 53/300\n",
      "10/10 [==============================] - 4s 427ms/step - loss: 0.0441 - accuracy: 1.0000 - val_loss: 0.4876 - val_accuracy: 0.8269\n",
      "Epoch 54/300\n",
      "10/10 [==============================] - 4s 430ms/step - loss: 0.0488 - accuracy: 1.0000 - val_loss: 0.4874 - val_accuracy: 0.8269\n",
      "Epoch 55/300\n",
      "10/10 [==============================] - 4s 431ms/step - loss: 0.0486 - accuracy: 1.0000 - val_loss: 0.4871 - val_accuracy: 0.8077\n",
      "Epoch 56/300\n",
      "10/10 [==============================] - 4s 428ms/step - loss: 0.0463 - accuracy: 1.0000 - val_loss: 0.4870 - val_accuracy: 0.8269\n",
      "Epoch 57/300\n",
      "10/10 [==============================] - 4s 430ms/step - loss: 0.0502 - accuracy: 1.0000 - val_loss: 0.4868 - val_accuracy: 0.8269\n",
      "Epoch 58/300\n",
      "10/10 [==============================] - 4s 428ms/step - loss: 0.0460 - accuracy: 1.0000 - val_loss: 0.4868 - val_accuracy: 0.8269\n",
      "Epoch 59/300\n",
      "10/10 [==============================] - 4s 428ms/step - loss: 0.0396 - accuracy: 1.0000 - val_loss: 0.4868 - val_accuracy: 0.8269\n",
      "Epoch 60/300\n",
      "10/10 [==============================] - 4s 429ms/step - loss: 0.0456 - accuracy: 1.0000 - val_loss: 0.4864 - val_accuracy: 0.8269\n",
      "Epoch 61/300\n",
      "10/10 [==============================] - 4s 429ms/step - loss: 0.0477 - accuracy: 1.0000 - val_loss: 0.4861 - val_accuracy: 0.8269\n",
      "Epoch 62/300\n",
      "10/10 [==============================] - 4s 432ms/step - loss: 0.0474 - accuracy: 1.0000 - val_loss: 0.4862 - val_accuracy: 0.8269\n",
      "Epoch 63/300\n",
      "10/10 [==============================] - 4s 431ms/step - loss: 0.0495 - accuracy: 1.0000 - val_loss: 0.4863 - val_accuracy: 0.8269\n",
      "Epoch 64/300\n",
      "10/10 [==============================] - 4s 432ms/step - loss: 0.0488 - accuracy: 1.0000 - val_loss: 0.4860 - val_accuracy: 0.8269\n",
      "Epoch 65/300\n",
      "10/10 [==============================] - 4s 430ms/step - loss: 0.0380 - accuracy: 1.0000 - val_loss: 0.4861 - val_accuracy: 0.8269\n",
      "Epoch 66/300\n",
      "10/10 [==============================] - 4s 433ms/step - loss: 0.0457 - accuracy: 1.0000 - val_loss: 0.4862 - val_accuracy: 0.8269\n",
      "Epoch 67/300\n",
      "10/10 [==============================] - 4s 431ms/step - loss: 0.0393 - accuracy: 1.0000 - val_loss: 0.4856 - val_accuracy: 0.8269\n",
      "Epoch 68/300\n",
      "10/10 [==============================] - 4s 434ms/step - loss: 0.0423 - accuracy: 1.0000 - val_loss: 0.4862 - val_accuracy: 0.8077\n",
      "Epoch 69/300\n",
      "10/10 [==============================] - 4s 433ms/step - loss: 0.0410 - accuracy: 1.0000 - val_loss: 0.4859 - val_accuracy: 0.8269\n",
      "Epoch 70/300\n",
      "10/10 [==============================] - 4s 431ms/step - loss: 0.0415 - accuracy: 1.0000 - val_loss: 0.4859 - val_accuracy: 0.8269\n",
      "Epoch 71/300\n",
      "10/10 [==============================] - 4s 430ms/step - loss: 0.0402 - accuracy: 1.0000 - val_loss: 0.4858 - val_accuracy: 0.8269\n",
      "Epoch 72/300\n",
      "10/10 [==============================] - 4s 428ms/step - loss: 0.0411 - accuracy: 1.0000 - val_loss: 0.4854 - val_accuracy: 0.8269\n",
      "Epoch 73/300\n",
      "10/10 [==============================] - 4s 425ms/step - loss: 0.0418 - accuracy: 1.0000 - val_loss: 0.4858 - val_accuracy: 0.8269\n",
      "Epoch 74/300\n",
      "10/10 [==============================] - 4s 431ms/step - loss: 0.0420 - accuracy: 1.0000 - val_loss: 0.4853 - val_accuracy: 0.8269\n",
      "Epoch 75/300\n",
      "10/10 [==============================] - 4s 427ms/step - loss: 0.0373 - accuracy: 1.0000 - val_loss: 0.4857 - val_accuracy: 0.8077\n",
      "Epoch 76/300\n",
      "10/10 [==============================] - 4s 428ms/step - loss: 0.0374 - accuracy: 1.0000 - val_loss: 0.4852 - val_accuracy: 0.8269\n",
      "Epoch 77/300\n",
      "10/10 [==============================] - 4s 426ms/step - loss: 0.0419 - accuracy: 1.0000 - val_loss: 0.4852 - val_accuracy: 0.8269\n",
      "Epoch 78/300\n",
      "10/10 [==============================] - 4s 431ms/step - loss: 0.0399 - accuracy: 1.0000 - val_loss: 0.4850 - val_accuracy: 0.8269\n",
      "Epoch 79/300\n",
      "10/10 [==============================] - 4s 429ms/step - loss: 0.0403 - accuracy: 1.0000 - val_loss: 0.4849 - val_accuracy: 0.8269\n",
      "Epoch 80/300\n",
      "10/10 [==============================] - 4s 428ms/step - loss: 0.0396 - accuracy: 1.0000 - val_loss: 0.4853 - val_accuracy: 0.8077\n",
      "Epoch 81/300\n",
      "10/10 [==============================] - 4s 428ms/step - loss: 0.0427 - accuracy: 1.0000 - val_loss: 0.4850 - val_accuracy: 0.8269\n",
      "Epoch 82/300\n",
      "10/10 [==============================] - 4s 428ms/step - loss: 0.0376 - accuracy: 1.0000 - val_loss: 0.4850 - val_accuracy: 0.8269\n",
      "Epoch 83/300\n",
      "10/10 [==============================] - 4s 427ms/step - loss: 0.0410 - accuracy: 1.0000 - val_loss: 0.4851 - val_accuracy: 0.8077\n",
      "Epoch 84/300\n",
      "10/10 [==============================] - 4s 429ms/step - loss: 0.0370 - accuracy: 1.0000 - val_loss: 0.4845 - val_accuracy: 0.8269\n",
      "Epoch 85/300\n",
      "10/10 [==============================] - 4s 429ms/step - loss: 0.0374 - accuracy: 1.0000 - val_loss: 0.4848 - val_accuracy: 0.8269\n",
      "Epoch 86/300\n",
      "10/10 [==============================] - 4s 429ms/step - loss: 0.0418 - accuracy: 1.0000 - val_loss: 0.4846 - val_accuracy: 0.8269\n",
      "Epoch 87/300\n",
      "10/10 [==============================] - 4s 428ms/step - loss: 0.0373 - accuracy: 1.0000 - val_loss: 0.4847 - val_accuracy: 0.8269\n",
      "Epoch 88/300\n",
      "10/10 [==============================] - 4s 432ms/step - loss: 0.0412 - accuracy: 1.0000 - val_loss: 0.4847 - val_accuracy: 0.8269\n",
      "Epoch 89/300\n",
      "10/10 [==============================] - 4s 430ms/step - loss: 0.0408 - accuracy: 1.0000 - val_loss: 0.4847 - val_accuracy: 0.8269\n",
      "Epoch 90/300\n",
      "10/10 [==============================] - 4s 430ms/step - loss: 0.0343 - accuracy: 1.0000 - val_loss: 0.4846 - val_accuracy: 0.8269\n",
      "Epoch 91/300\n",
      "10/10 [==============================] - 4s 428ms/step - loss: 0.0393 - accuracy: 1.0000 - val_loss: 0.4847 - val_accuracy: 0.8269\n",
      "Epoch 92/300\n",
      "10/10 [==============================] - 4s 428ms/step - loss: 0.0389 - accuracy: 1.0000 - val_loss: 0.4846 - val_accuracy: 0.8269\n",
      "Epoch 93/300\n",
      "10/10 [==============================] - 4s 430ms/step - loss: 0.0365 - accuracy: 1.0000 - val_loss: 0.4846 - val_accuracy: 0.8269\n",
      "Epoch 94/300\n",
      "10/10 [==============================] - 4s 429ms/step - loss: 0.0370 - accuracy: 1.0000 - val_loss: 0.4846 - val_accuracy: 0.8269\n",
      "Epoch 95/300\n",
      "10/10 [==============================] - 4s 429ms/step - loss: 0.0377 - accuracy: 1.0000 - val_loss: 0.4847 - val_accuracy: 0.8269\n",
      "Epoch 96/300\n",
      "10/10 [==============================] - 4s 432ms/step - loss: 0.0355 - accuracy: 1.0000 - val_loss: 0.4847 - val_accuracy: 0.8269\n",
      "Epoch 97/300\n",
      "10/10 [==============================] - 4s 429ms/step - loss: 0.0400 - accuracy: 1.0000 - val_loss: 0.4847 - val_accuracy: 0.8269\n",
      "Epoch 98/300\n",
      "10/10 [==============================] - 4s 431ms/step - loss: 0.0358 - accuracy: 1.0000 - val_loss: 0.4846 - val_accuracy: 0.8269\n",
      "Epoch 99/300\n",
      "10/10 [==============================] - 4s 426ms/step - loss: 0.0388 - accuracy: 1.0000 - val_loss: 0.4847 - val_accuracy: 0.8269\n",
      "Epoch 100/300\n",
      "10/10 [==============================] - 4s 429ms/step - loss: 0.0394 - accuracy: 1.0000 - val_loss: 0.4847 - val_accuracy: 0.8269\n",
      "Epoch 101/300\n",
      "10/10 [==============================] - 4s 427ms/step - loss: 0.0352 - accuracy: 1.0000 - val_loss: 0.4846 - val_accuracy: 0.8269\n",
      "Epoch 102/300\n",
      "10/10 [==============================] - 4s 432ms/step - loss: 0.0340 - accuracy: 1.0000 - val_loss: 0.4846 - val_accuracy: 0.8269\n",
      "Epoch 103/300\n",
      "10/10 [==============================] - 4s 430ms/step - loss: 0.0361 - accuracy: 1.0000 - val_loss: 0.4846 - val_accuracy: 0.8269\n",
      "Epoch 104/300\n",
      "10/10 [==============================] - 4s 430ms/step - loss: 0.0367 - accuracy: 1.0000 - val_loss: 0.4846 - val_accuracy: 0.8269\n",
      "------------------------------------------------------------------------\n",
      "Score for fold 1: loss of 0.6; accuracy of 76.92%\n",
      "------------------------------------------------------------------------\n",
      "\n",
      "------------------------------------------------------------------------\n",
      "Training for fold 2/3 ...\n",
      "------------------------------------------------------------------------\n",
      "Epoch 1/300\n",
      "10/10 [==============================] - 23s 906ms/step - loss: 0.5159 - accuracy: 0.9431 - val_loss: 0.3167 - val_accuracy: 0.9231\n",
      "Epoch 2/300\n",
      "10/10 [==============================] - 4s 431ms/step - loss: 0.3881 - accuracy: 0.9594 - val_loss: 0.3460 - val_accuracy: 0.9423\n",
      "Epoch 3/300\n",
      "10/10 [==============================] - 4s 428ms/step - loss: 0.4169 - accuracy: 0.9347 - val_loss: 0.2949 - val_accuracy: 0.9231\n",
      "Epoch 4/300\n",
      "10/10 [==============================] - 4s 428ms/step - loss: 0.3313 - accuracy: 0.9793 - val_loss: 0.2862 - val_accuracy: 0.9423\n",
      "Epoch 5/300\n",
      "10/10 [==============================] - 4s 426ms/step - loss: 0.3521 - accuracy: 0.9614 - val_loss: 0.2714 - val_accuracy: 0.9231\n",
      "Epoch 6/300\n",
      "10/10 [==============================] - 4s 431ms/step - loss: 0.3499 - accuracy: 0.9861 - val_loss: 0.2646 - val_accuracy: 0.9423\n",
      "Epoch 7/300\n",
      "10/10 [==============================] - 4s 430ms/step - loss: 0.3419 - accuracy: 0.9544 - val_loss: 0.2587 - val_accuracy: 0.9231\n",
      "Epoch 8/300\n",
      "10/10 [==============================] - 4s 429ms/step - loss: 0.3342 - accuracy: 0.9741 - val_loss: 0.2489 - val_accuracy: 0.9423\n",
      "Epoch 9/300\n",
      "10/10 [==============================] - 4s 430ms/step - loss: 0.3195 - accuracy: 0.9492 - val_loss: 0.2468 - val_accuracy: 0.9423\n",
      "Epoch 10/300\n",
      "10/10 [==============================] - 4s 428ms/step - loss: 0.2756 - accuracy: 0.9824 - val_loss: 0.2472 - val_accuracy: 0.9423\n",
      "Epoch 11/300\n",
      "10/10 [==============================] - 4s 431ms/step - loss: 0.2912 - accuracy: 0.9748 - val_loss: 0.2393 - val_accuracy: 0.9231\n",
      "Epoch 12/300\n",
      "10/10 [==============================] - 4s 430ms/step - loss: 0.2421 - accuracy: 0.9800 - val_loss: 0.2357 - val_accuracy: 0.9423\n",
      "Epoch 13/300\n",
      "10/10 [==============================] - 4s 429ms/step - loss: 0.2400 - accuracy: 0.9849 - val_loss: 0.2320 - val_accuracy: 0.9231\n",
      "Epoch 14/300\n",
      "10/10 [==============================] - 4s 430ms/step - loss: 0.2697 - accuracy: 0.9805 - val_loss: 0.2326 - val_accuracy: 0.9231\n",
      "Epoch 15/300\n",
      "10/10 [==============================] - 4s 430ms/step - loss: 0.2086 - accuracy: 0.9846 - val_loss: 0.2298 - val_accuracy: 0.9423\n",
      "Epoch 16/300\n",
      "10/10 [==============================] - 4s 428ms/step - loss: 0.2015 - accuracy: 0.9938 - val_loss: 0.2259 - val_accuracy: 0.9231\n",
      "Epoch 17/300\n",
      "10/10 [==============================] - 4s 433ms/step - loss: 0.2429 - accuracy: 0.9867 - val_loss: 0.2248 - val_accuracy: 0.9231\n",
      "Epoch 18/300\n",
      "10/10 [==============================] - 4s 427ms/step - loss: 0.2400 - accuracy: 0.9817 - val_loss: 0.2233 - val_accuracy: 0.9231\n",
      "Epoch 19/300\n",
      "10/10 [==============================] - 4s 428ms/step - loss: 0.1971 - accuracy: 0.9774 - val_loss: 0.2224 - val_accuracy: 0.9423\n",
      "Epoch 20/300\n",
      "10/10 [==============================] - 4s 429ms/step - loss: 0.1877 - accuracy: 0.9903 - val_loss: 0.2216 - val_accuracy: 0.9231\n",
      "Epoch 21/300\n",
      "10/10 [==============================] - 4s 433ms/step - loss: 0.1866 - accuracy: 0.9877 - val_loss: 0.2194 - val_accuracy: 0.9231\n",
      "Epoch 22/300\n",
      "10/10 [==============================] - 4s 431ms/step - loss: 0.1828 - accuracy: 0.9896 - val_loss: 0.2187 - val_accuracy: 0.9231\n",
      "Epoch 23/300\n",
      "10/10 [==============================] - 4s 428ms/step - loss: 0.2138 - accuracy: 0.9602 - val_loss: 0.2173 - val_accuracy: 0.9231\n",
      "Epoch 24/300\n",
      "10/10 [==============================] - 4s 428ms/step - loss: 0.1367 - accuracy: 0.9923 - val_loss: 0.2163 - val_accuracy: 0.9231\n",
      "Epoch 25/300\n",
      "10/10 [==============================] - 4s 426ms/step - loss: 0.1832 - accuracy: 0.9810 - val_loss: 0.2157 - val_accuracy: 0.9231\n",
      "Epoch 26/300\n",
      "10/10 [==============================] - 4s 427ms/step - loss: 0.1923 - accuracy: 0.9810 - val_loss: 0.2156 - val_accuracy: 0.9231\n",
      "Epoch 27/300\n",
      "10/10 [==============================] - 4s 430ms/step - loss: 0.1602 - accuracy: 0.9847 - val_loss: 0.2147 - val_accuracy: 0.9231\n",
      "Epoch 28/300\n",
      "10/10 [==============================] - 4s 430ms/step - loss: 0.1532 - accuracy: 0.9834 - val_loss: 0.2144 - val_accuracy: 0.9231\n",
      "Epoch 29/300\n",
      "10/10 [==============================] - 4s 427ms/step - loss: 0.1390 - accuracy: 0.9890 - val_loss: 0.2138 - val_accuracy: 0.9231\n",
      "Epoch 30/300\n",
      "10/10 [==============================] - 4s 429ms/step - loss: 0.1282 - accuracy: 0.9925 - val_loss: 0.2137 - val_accuracy: 0.9231\n",
      "Epoch 31/300\n",
      "10/10 [==============================] - 4s 429ms/step - loss: 0.1446 - accuracy: 0.9872 - val_loss: 0.2128 - val_accuracy: 0.9231\n",
      "Epoch 32/300\n",
      "10/10 [==============================] - 4s 429ms/step - loss: 0.1926 - accuracy: 0.9785 - val_loss: 0.2171 - val_accuracy: 0.9231\n",
      "Epoch 33/300\n",
      "10/10 [==============================] - 4s 428ms/step - loss: 0.1277 - accuracy: 0.9940 - val_loss: 0.2121 - val_accuracy: 0.9231\n",
      "Epoch 34/300\n",
      "10/10 [==============================] - 4s 427ms/step - loss: 0.1553 - accuracy: 0.9783 - val_loss: 0.2124 - val_accuracy: 0.9231\n",
      "Epoch 35/300\n",
      "10/10 [==============================] - 4s 428ms/step - loss: 0.1520 - accuracy: 0.9785 - val_loss: 0.2123 - val_accuracy: 0.9231\n",
      "Epoch 36/300\n",
      "10/10 [==============================] - 4s 429ms/step - loss: 0.1284 - accuracy: 0.9895 - val_loss: 0.2129 - val_accuracy: 0.9231\n",
      "Epoch 37/300\n",
      "10/10 [==============================] - 4s 428ms/step - loss: 0.1290 - accuracy: 0.9860 - val_loss: 0.2116 - val_accuracy: 0.9231\n",
      "Epoch 38/300\n",
      "10/10 [==============================] - 4s 429ms/step - loss: 0.1276 - accuracy: 0.9907 - val_loss: 0.2119 - val_accuracy: 0.9231\n",
      "Epoch 39/300\n",
      "10/10 [==============================] - 4s 429ms/step - loss: 0.1429 - accuracy: 0.9785 - val_loss: 0.2118 - val_accuracy: 0.9231\n",
      "Epoch 40/300\n",
      "10/10 [==============================] - 4s 430ms/step - loss: 0.1247 - accuracy: 0.9889 - val_loss: 0.2115 - val_accuracy: 0.9231\n",
      "Epoch 41/300\n",
      "10/10 [==============================] - 4s 426ms/step - loss: 0.1314 - accuracy: 0.9949 - val_loss: 0.2114 - val_accuracy: 0.9231\n",
      "Epoch 42/300\n",
      "10/10 [==============================] - 4s 425ms/step - loss: 0.1502 - accuracy: 0.9816 - val_loss: 0.2112 - val_accuracy: 0.9231\n",
      "Epoch 43/300\n",
      "10/10 [==============================] - 4s 429ms/step - loss: 0.1025 - accuracy: 0.9940 - val_loss: 0.2111 - val_accuracy: 0.9423\n",
      "Epoch 44/300\n",
      "10/10 [==============================] - 4s 429ms/step - loss: 0.1179 - accuracy: 0.9842 - val_loss: 0.2111 - val_accuracy: 0.9231\n",
      "Epoch 45/300\n",
      "10/10 [==============================] - 4s 426ms/step - loss: 0.1115 - accuracy: 0.9915 - val_loss: 0.2099 - val_accuracy: 0.9231\n",
      "Epoch 46/300\n",
      "10/10 [==============================] - 4s 428ms/step - loss: 0.1116 - accuracy: 0.9892 - val_loss: 0.2111 - val_accuracy: 0.9231\n",
      "Epoch 47/300\n",
      "10/10 [==============================] - 4s 430ms/step - loss: 0.1441 - accuracy: 0.9810 - val_loss: 0.2136 - val_accuracy: 0.9231\n",
      "Epoch 48/300\n",
      "10/10 [==============================] - 4s 429ms/step - loss: 0.1259 - accuracy: 0.9816 - val_loss: 0.2114 - val_accuracy: 0.9231\n",
      "Epoch 49/300\n",
      "10/10 [==============================] - 4s 430ms/step - loss: 0.1223 - accuracy: 0.9899 - val_loss: 0.2115 - val_accuracy: 0.9231\n",
      "Epoch 50/300\n",
      "10/10 [==============================] - 4s 429ms/step - loss: 0.1078 - accuracy: 0.9810 - val_loss: 0.2105 - val_accuracy: 0.9231\n",
      "Epoch 51/300\n",
      "10/10 [==============================] - 4s 439ms/step - loss: 0.1029 - accuracy: 0.9949 - val_loss: 0.2107 - val_accuracy: 0.9231\n",
      "Epoch 52/300\n",
      "10/10 [==============================] - 4s 423ms/step - loss: 0.0926 - accuracy: 0.9924 - val_loss: 0.2109 - val_accuracy: 0.9231\n",
      "Epoch 53/300\n",
      "10/10 [==============================] - 4s 428ms/step - loss: 0.1173 - accuracy: 0.9810 - val_loss: 0.2107 - val_accuracy: 0.9231\n",
      "Epoch 54/300\n",
      "10/10 [==============================] - 4s 426ms/step - loss: 0.1160 - accuracy: 0.9798 - val_loss: 0.2113 - val_accuracy: 0.9231\n",
      "Epoch 55/300\n",
      "10/10 [==============================] - 4s 428ms/step - loss: 0.1019 - accuracy: 0.9888 - val_loss: 0.2117 - val_accuracy: 0.9231\n",
      "Epoch 56/300\n",
      "10/10 [==============================] - 4s 430ms/step - loss: 0.0929 - accuracy: 0.9935 - val_loss: 0.2118 - val_accuracy: 0.9231\n",
      "Epoch 57/300\n",
      "10/10 [==============================] - 4s 432ms/step - loss: 0.1019 - accuracy: 0.9842 - val_loss: 0.2116 - val_accuracy: 0.9231\n",
      "Epoch 58/300\n",
      "10/10 [==============================] - 4s 427ms/step - loss: 0.1160 - accuracy: 0.9785 - val_loss: 0.2115 - val_accuracy: 0.9231\n",
      "Epoch 59/300\n",
      "10/10 [==============================] - 4s 428ms/step - loss: 0.1058 - accuracy: 0.9860 - val_loss: 0.2115 - val_accuracy: 0.9231\n",
      "Epoch 60/300\n",
      "10/10 [==============================] - 4s 429ms/step - loss: 0.1078 - accuracy: 0.9760 - val_loss: 0.2115 - val_accuracy: 0.9231\n",
      "Epoch 61/300\n",
      "10/10 [==============================] - 4s 428ms/step - loss: 0.1025 - accuracy: 0.9921 - val_loss: 0.2114 - val_accuracy: 0.9231\n",
      "Epoch 62/300\n",
      "10/10 [==============================] - 4s 428ms/step - loss: 0.1070 - accuracy: 0.9878 - val_loss: 0.2114 - val_accuracy: 0.9231\n",
      "Epoch 63/300\n",
      "10/10 [==============================] - 4s 429ms/step - loss: 0.0935 - accuracy: 0.9940 - val_loss: 0.2115 - val_accuracy: 0.9231\n",
      "Epoch 64/300\n",
      "10/10 [==============================] - 4s 431ms/step - loss: 0.0846 - accuracy: 0.9935 - val_loss: 0.2117 - val_accuracy: 0.9231\n",
      "Epoch 65/300\n",
      "10/10 [==============================] - 4s 431ms/step - loss: 0.1073 - accuracy: 0.9888 - val_loss: 0.2114 - val_accuracy: 0.9231\n",
      "------------------------------------------------------------------------\n",
      "Score for fold 2: loss of 0.62; accuracy of 78.85%\n",
      "------------------------------------------------------------------------\n",
      "\n",
      "------------------------------------------------------------------------\n",
      "Training for fold 3/3 ...\n",
      "------------------------------------------------------------------------\n",
      "Epoch 1/300\n",
      "10/10 [==============================] - 22s 900ms/step - loss: 0.4599 - accuracy: 0.9094 - val_loss: 0.3581 - val_accuracy: 0.9423\n",
      "Epoch 2/300\n",
      "10/10 [==============================] - 4s 429ms/step - loss: 0.4083 - accuracy: 0.8981 - val_loss: 0.3628 - val_accuracy: 0.9231\n",
      "Epoch 3/300\n",
      "10/10 [==============================] - 4s 430ms/step - loss: 0.3793 - accuracy: 0.9482 - val_loss: 0.3278 - val_accuracy: 0.9231\n",
      "Epoch 4/300\n",
      "10/10 [==============================] - 4s 431ms/step - loss: 0.3960 - accuracy: 0.9374 - val_loss: 0.3379 - val_accuracy: 0.9231\n",
      "Epoch 5/300\n",
      "10/10 [==============================] - 4s 431ms/step - loss: 0.3101 - accuracy: 0.9514 - val_loss: 0.3250 - val_accuracy: 0.9423\n",
      "Epoch 6/300\n",
      "10/10 [==============================] - 4s 430ms/step - loss: 0.2992 - accuracy: 0.9683 - val_loss: 0.3328 - val_accuracy: 0.9038\n",
      "Epoch 7/300\n",
      "10/10 [==============================] - 4s 428ms/step - loss: 0.2620 - accuracy: 0.9576 - val_loss: 0.3118 - val_accuracy: 0.9423\n",
      "Epoch 8/300\n",
      "10/10 [==============================] - 4s 431ms/step - loss: 0.2579 - accuracy: 0.9525 - val_loss: 0.3088 - val_accuracy: 0.9231\n",
      "Epoch 9/300\n",
      "10/10 [==============================] - 4s 430ms/step - loss: 0.3149 - accuracy: 0.9380 - val_loss: 0.2990 - val_accuracy: 0.9423\n",
      "Epoch 10/300\n",
      "10/10 [==============================] - 4s 430ms/step - loss: 0.3032 - accuracy: 0.9435 - val_loss: 0.2929 - val_accuracy: 0.9231\n",
      "Epoch 11/300\n",
      "10/10 [==============================] - 4s 428ms/step - loss: 0.2113 - accuracy: 0.9907 - val_loss: 0.3012 - val_accuracy: 0.9423\n",
      "Epoch 12/300\n",
      "10/10 [==============================] - 4s 431ms/step - loss: 0.2710 - accuracy: 0.9638 - val_loss: 0.2827 - val_accuracy: 0.9423\n",
      "Epoch 13/300\n",
      "10/10 [==============================] - 4s 430ms/step - loss: 0.2041 - accuracy: 0.9774 - val_loss: 0.2827 - val_accuracy: 0.9231\n",
      "Epoch 14/300\n",
      "10/10 [==============================] - 4s 430ms/step - loss: 0.1741 - accuracy: 0.9932 - val_loss: 0.2883 - val_accuracy: 0.9423\n",
      "Epoch 15/300\n",
      "10/10 [==============================] - 4s 430ms/step - loss: 0.2109 - accuracy: 0.9543 - val_loss: 0.2795 - val_accuracy: 0.9231\n",
      "Epoch 16/300\n",
      "10/10 [==============================] - 4s 427ms/step - loss: 0.1950 - accuracy: 0.9709 - val_loss: 0.2761 - val_accuracy: 0.9038\n",
      "Epoch 17/300\n",
      "10/10 [==============================] - 4s 421ms/step - loss: 0.1869 - accuracy: 0.9698 - val_loss: 0.2788 - val_accuracy: 0.9231\n",
      "Epoch 18/300\n",
      "10/10 [==============================] - 4s 429ms/step - loss: 0.2007 - accuracy: 0.9729 - val_loss: 0.2771 - val_accuracy: 0.9231\n",
      "Epoch 19/300\n",
      "10/10 [==============================] - 4s 435ms/step - loss: 0.1586 - accuracy: 0.9769 - val_loss: 0.2759 - val_accuracy: 0.9231\n",
      "Epoch 20/300\n",
      "10/10 [==============================] - 4s 430ms/step - loss: 0.1830 - accuracy: 0.9749 - val_loss: 0.2831 - val_accuracy: 0.9423\n",
      "Epoch 21/300\n",
      "10/10 [==============================] - 4s 432ms/step - loss: 0.1444 - accuracy: 0.9882 - val_loss: 0.2767 - val_accuracy: 0.9231\n",
      "Epoch 22/300\n",
      "10/10 [==============================] - 4s 433ms/step - loss: 0.1590 - accuracy: 0.9900 - val_loss: 0.2772 - val_accuracy: 0.9231\n",
      "Epoch 23/300\n",
      "10/10 [==============================] - 4s 432ms/step - loss: 0.1861 - accuracy: 0.9751 - val_loss: 0.2720 - val_accuracy: 0.9038\n",
      "Epoch 24/300\n",
      "10/10 [==============================] - 4s 432ms/step - loss: 0.1688 - accuracy: 0.9760 - val_loss: 0.2733 - val_accuracy: 0.9038\n",
      "Epoch 25/300\n",
      "10/10 [==============================] - 4s 432ms/step - loss: 0.1630 - accuracy: 0.9777 - val_loss: 0.2739 - val_accuracy: 0.9038\n",
      "Epoch 26/300\n",
      "10/10 [==============================] - 4s 428ms/step - loss: 0.1428 - accuracy: 0.9949 - val_loss: 0.2829 - val_accuracy: 0.9423\n",
      "Epoch 27/300\n",
      "10/10 [==============================] - 4s 431ms/step - loss: 0.1458 - accuracy: 0.9907 - val_loss: 0.2715 - val_accuracy: 0.9038\n",
      "Epoch 28/300\n",
      "10/10 [==============================] - 4s 432ms/step - loss: 0.1540 - accuracy: 0.9741 - val_loss: 0.2717 - val_accuracy: 0.9038\n",
      "Epoch 29/300\n",
      "10/10 [==============================] - 4s 427ms/step - loss: 0.1451 - accuracy: 0.9913 - val_loss: 0.2727 - val_accuracy: 0.9038\n",
      "Epoch 30/300\n",
      "10/10 [==============================] - 4s 427ms/step - loss: 0.1463 - accuracy: 0.9949 - val_loss: 0.2750 - val_accuracy: 0.9231\n",
      "Epoch 31/300\n",
      "10/10 [==============================] - 4s 431ms/step - loss: 0.1117 - accuracy: 0.9892 - val_loss: 0.2774 - val_accuracy: 0.9231\n",
      "Epoch 32/300\n",
      "10/10 [==============================] - 4s 428ms/step - loss: 0.1384 - accuracy: 0.9885 - val_loss: 0.2699 - val_accuracy: 0.9038\n",
      "Epoch 33/300\n",
      "10/10 [==============================] - 4s 431ms/step - loss: 0.1354 - accuracy: 0.9867 - val_loss: 0.2734 - val_accuracy: 0.9038\n",
      "Epoch 34/300\n",
      "10/10 [==============================] - 4s 426ms/step - loss: 0.1417 - accuracy: 0.9828 - val_loss: 0.2673 - val_accuracy: 0.9038\n",
      "Epoch 35/300\n",
      "10/10 [==============================] - 4s 429ms/step - loss: 0.1466 - accuracy: 0.9769 - val_loss: 0.2675 - val_accuracy: 0.9038\n",
      "Epoch 36/300\n",
      "10/10 [==============================] - 4s 432ms/step - loss: 0.0976 - accuracy: 0.9977 - val_loss: 0.2700 - val_accuracy: 0.9038\n",
      "Epoch 37/300\n",
      "10/10 [==============================] - 4s 433ms/step - loss: 0.1116 - accuracy: 0.9988 - val_loss: 0.2695 - val_accuracy: 0.9038\n",
      "Epoch 38/300\n",
      "10/10 [==============================] - 4s 431ms/step - loss: 0.1031 - accuracy: 0.9975 - val_loss: 0.2719 - val_accuracy: 0.9038\n",
      "Epoch 39/300\n",
      "10/10 [==============================] - 4s 432ms/step - loss: 0.1087 - accuracy: 0.9957 - val_loss: 0.2714 - val_accuracy: 0.9038\n",
      "Epoch 40/300\n",
      "10/10 [==============================] - 4s 430ms/step - loss: 0.1042 - accuracy: 0.9982 - val_loss: 0.2721 - val_accuracy: 0.9038\n",
      "Epoch 41/300\n",
      "10/10 [==============================] - 4s 429ms/step - loss: 0.1047 - accuracy: 0.9946 - val_loss: 0.2728 - val_accuracy: 0.9038\n",
      "Epoch 42/300\n",
      "10/10 [==============================] - 4s 429ms/step - loss: 0.0974 - accuracy: 0.9967 - val_loss: 0.2724 - val_accuracy: 0.9038\n",
      "Epoch 43/300\n",
      "10/10 [==============================] - 4s 432ms/step - loss: 0.0943 - accuracy: 0.9957 - val_loss: 0.2728 - val_accuracy: 0.9038\n",
      "Epoch 44/300\n",
      "10/10 [==============================] - 4s 432ms/step - loss: 0.1042 - accuracy: 0.9957 - val_loss: 0.2733 - val_accuracy: 0.9038\n",
      "Epoch 45/300\n",
      "10/10 [==============================] - 4s 429ms/step - loss: 0.1379 - accuracy: 0.9828 - val_loss: 0.2729 - val_accuracy: 0.9038\n",
      "Epoch 46/300\n",
      "10/10 [==============================] - 4s 432ms/step - loss: 0.1201 - accuracy: 0.9828 - val_loss: 0.2723 - val_accuracy: 0.9038\n",
      "Epoch 47/300\n",
      "10/10 [==============================] - 4s 433ms/step - loss: 0.1045 - accuracy: 0.9946 - val_loss: 0.2721 - val_accuracy: 0.9038\n",
      "Epoch 48/300\n",
      "10/10 [==============================] - 4s 430ms/step - loss: 0.0962 - accuracy: 0.9975 - val_loss: 0.2718 - val_accuracy: 0.9038\n",
      "Epoch 49/300\n",
      "10/10 [==============================] - 4s 430ms/step - loss: 0.1109 - accuracy: 0.9967 - val_loss: 0.2721 - val_accuracy: 0.9038\n",
      "Epoch 50/300\n",
      "10/10 [==============================] - 4s 431ms/step - loss: 0.0961 - accuracy: 0.9946 - val_loss: 0.2718 - val_accuracy: 0.9038\n",
      "Epoch 51/300\n",
      "10/10 [==============================] - 4s 431ms/step - loss: 0.1002 - accuracy: 0.9988 - val_loss: 0.2716 - val_accuracy: 0.9038\n",
      "Epoch 52/300\n",
      "10/10 [==============================] - 4s 432ms/step - loss: 0.0993 - accuracy: 0.9967 - val_loss: 0.2723 - val_accuracy: 0.9038\n",
      "Epoch 53/300\n",
      "10/10 [==============================] - 4s 431ms/step - loss: 0.0914 - accuracy: 0.9967 - val_loss: 0.2722 - val_accuracy: 0.9038\n",
      "Epoch 54/300\n",
      "10/10 [==============================] - 4s 429ms/step - loss: 0.0883 - accuracy: 0.9975 - val_loss: 0.2722 - val_accuracy: 0.9038\n",
      "------------------------------------------------------------------------\n",
      "Score for fold 3: loss of 0.61; accuracy of 76.92%\n",
      "------------------------------------------------------------------------\n",
      "\n",
      "------------------------------------------------------------------------\n",
      "Score per fold\n",
      "------------------------------------------------------------------------\n",
      "> Fold 1 - Loss: 0.6 - Accuracy: 0.77%\n",
      "------------------------------------------------------------------------\n",
      "> Fold 2 - Loss: 0.62 - Accuracy: 0.79%\n",
      "------------------------------------------------------------------------\n",
      "> Fold 3 - Loss: 0.61 - Accuracy: 0.77%\n",
      "------------------------------------------------------------------------\n",
      "Average scores for all folds (LR = 0.001, mtm = 0.5):\n",
      "> Accuracy: 0.78 (+- 0.01)\n",
      "> Loss: 0.61 (+- 0.01)\n",
      "------------------------------------------------------------------------\n",
      "\n",
      "\n",
      "------------------------------------------------------------------------\n",
      "Training for combination 2/2 ...\n",
      "Learning rate = 0.001\n",
      "Momentum = 0.8\n",
      "------------------------------------------------------------------------\n",
      "------------------------------------------------------------------------\n",
      "Training for fold 1/3 ...\n",
      "------------------------------------------------------------------------\n",
      "Epoch 1/300\n",
      "10/10 [==============================] - 25s 935ms/step - loss: 0.3280 - accuracy: 0.9677 - val_loss: 0.6051 - val_accuracy: 0.7885\n",
      "Epoch 2/300\n",
      "10/10 [==============================] - 4s 434ms/step - loss: 0.2808 - accuracy: 0.9701 - val_loss: 0.6646 - val_accuracy: 0.7885\n",
      "Epoch 3/300\n",
      "10/10 [==============================] - 4s 433ms/step - loss: 0.2365 - accuracy: 0.9828 - val_loss: 0.5663 - val_accuracy: 0.8077\n",
      "Epoch 4/300\n",
      "10/10 [==============================] - 4s 433ms/step - loss: 0.1661 - accuracy: 0.9913 - val_loss: 0.5317 - val_accuracy: 0.8462\n",
      "Epoch 5/300\n",
      "10/10 [==============================] - 4s 432ms/step - loss: 0.1329 - accuracy: 1.0000 - val_loss: 0.5295 - val_accuracy: 0.8462\n",
      "Epoch 6/300\n",
      "10/10 [==============================] - 4s 433ms/step - loss: 0.1165 - accuracy: 1.0000 - val_loss: 0.5228 - val_accuracy: 0.8462\n",
      "Epoch 7/300\n",
      "10/10 [==============================] - 4s 433ms/step - loss: 0.1118 - accuracy: 1.0000 - val_loss: 0.5109 - val_accuracy: 0.8462\n",
      "Epoch 8/300\n",
      "10/10 [==============================] - 4s 426ms/step - loss: 0.1053 - accuracy: 1.0000 - val_loss: 0.5098 - val_accuracy: 0.8077\n",
      "Epoch 9/300\n",
      "10/10 [==============================] - 4s 432ms/step - loss: 0.0999 - accuracy: 1.0000 - val_loss: 0.5024 - val_accuracy: 0.7885\n",
      "Epoch 10/300\n",
      "10/10 [==============================] - 4s 432ms/step - loss: 0.0902 - accuracy: 1.0000 - val_loss: 0.5000 - val_accuracy: 0.8269\n",
      "Epoch 11/300\n",
      "10/10 [==============================] - 4s 434ms/step - loss: 0.0809 - accuracy: 1.0000 - val_loss: 0.5034 - val_accuracy: 0.8077\n",
      "Epoch 12/300\n",
      "10/10 [==============================] - 4s 435ms/step - loss: 0.0761 - accuracy: 1.0000 - val_loss: 0.4943 - val_accuracy: 0.8269\n",
      "Epoch 13/300\n",
      "10/10 [==============================] - 4s 433ms/step - loss: 0.0694 - accuracy: 1.0000 - val_loss: 0.4989 - val_accuracy: 0.8077\n",
      "Epoch 14/300\n",
      "10/10 [==============================] - 4s 435ms/step - loss: 0.0698 - accuracy: 1.0000 - val_loss: 0.4912 - val_accuracy: 0.8077\n",
      "Epoch 15/300\n",
      "10/10 [==============================] - 4s 429ms/step - loss: 0.0604 - accuracy: 1.0000 - val_loss: 0.4911 - val_accuracy: 0.8269\n",
      "Epoch 16/300\n",
      "10/10 [==============================] - 4s 431ms/step - loss: 0.0631 - accuracy: 1.0000 - val_loss: 0.4892 - val_accuracy: 0.8269\n",
      "Epoch 17/300\n",
      "10/10 [==============================] - 4s 428ms/step - loss: 0.0598 - accuracy: 1.0000 - val_loss: 0.4905 - val_accuracy: 0.8077\n",
      "Epoch 18/300\n",
      "10/10 [==============================] - 4s 430ms/step - loss: 0.0604 - accuracy: 1.0000 - val_loss: 0.4890 - val_accuracy: 0.8077\n",
      "Epoch 19/300\n",
      "10/10 [==============================] - 4s 434ms/step - loss: 0.0507 - accuracy: 1.0000 - val_loss: 0.4883 - val_accuracy: 0.8077\n",
      "Epoch 20/300\n",
      "10/10 [==============================] - 4s 430ms/step - loss: 0.0508 - accuracy: 1.0000 - val_loss: 0.4885 - val_accuracy: 0.8269\n",
      "Epoch 21/300\n",
      "10/10 [==============================] - 4s 428ms/step - loss: 0.0498 - accuracy: 1.0000 - val_loss: 0.4904 - val_accuracy: 0.8077\n",
      "Epoch 22/300\n",
      "10/10 [==============================] - 4s 435ms/step - loss: 0.0430 - accuracy: 1.0000 - val_loss: 0.4870 - val_accuracy: 0.8077\n",
      "Epoch 23/300\n",
      "10/10 [==============================] - 4s 431ms/step - loss: 0.0375 - accuracy: 1.0000 - val_loss: 0.4846 - val_accuracy: 0.8269\n",
      "Epoch 24/300\n",
      "10/10 [==============================] - 4s 434ms/step - loss: 0.0380 - accuracy: 1.0000 - val_loss: 0.4864 - val_accuracy: 0.8269\n",
      "Epoch 25/300\n",
      "10/10 [==============================] - 4s 434ms/step - loss: 0.0420 - accuracy: 1.0000 - val_loss: 0.4854 - val_accuracy: 0.8269\n",
      "Epoch 26/300\n",
      "10/10 [==============================] - 4s 428ms/step - loss: 0.0438 - accuracy: 1.0000 - val_loss: 0.4855 - val_accuracy: 0.8077\n",
      "Epoch 27/300\n",
      "10/10 [==============================] - 4s 434ms/step - loss: 0.0418 - accuracy: 1.0000 - val_loss: 0.4834 - val_accuracy: 0.8077\n",
      "Epoch 28/300\n",
      "10/10 [==============================] - 4s 432ms/step - loss: 0.0426 - accuracy: 1.0000 - val_loss: 0.4839 - val_accuracy: 0.8269\n",
      "Epoch 29/300\n",
      "10/10 [==============================] - 4s 429ms/step - loss: 0.0383 - accuracy: 1.0000 - val_loss: 0.4851 - val_accuracy: 0.8077\n",
      "Epoch 30/300\n",
      "10/10 [==============================] - 4s 434ms/step - loss: 0.0384 - accuracy: 1.0000 - val_loss: 0.4837 - val_accuracy: 0.8269\n",
      "Epoch 31/300\n",
      "10/10 [==============================] - 4s 432ms/step - loss: 0.0380 - accuracy: 1.0000 - val_loss: 0.4843 - val_accuracy: 0.8077\n",
      "Epoch 32/300\n",
      "10/10 [==============================] - 4s 431ms/step - loss: 0.0342 - accuracy: 1.0000 - val_loss: 0.4846 - val_accuracy: 0.8077\n",
      "Epoch 33/300\n",
      "10/10 [==============================] - 4s 433ms/step - loss: 0.0377 - accuracy: 1.0000 - val_loss: 0.4849 - val_accuracy: 0.8077\n",
      "Epoch 34/300\n",
      "10/10 [==============================] - 4s 430ms/step - loss: 0.0317 - accuracy: 1.0000 - val_loss: 0.4832 - val_accuracy: 0.8077\n",
      "Epoch 35/300\n",
      "10/10 [==============================] - 4s 433ms/step - loss: 0.0309 - accuracy: 1.0000 - val_loss: 0.4839 - val_accuracy: 0.8077\n",
      "Epoch 36/300\n",
      "10/10 [==============================] - 4s 431ms/step - loss: 0.0298 - accuracy: 1.0000 - val_loss: 0.4833 - val_accuracy: 0.8077\n",
      "Epoch 37/300\n",
      "10/10 [==============================] - 4s 430ms/step - loss: 0.0261 - accuracy: 1.0000 - val_loss: 0.4831 - val_accuracy: 0.8269\n",
      "Epoch 38/300\n",
      "10/10 [==============================] - 4s 432ms/step - loss: 0.0286 - accuracy: 1.0000 - val_loss: 0.4844 - val_accuracy: 0.8077\n",
      "Epoch 39/300\n",
      "10/10 [==============================] - 4s 434ms/step - loss: 0.0324 - accuracy: 1.0000 - val_loss: 0.4852 - val_accuracy: 0.8077\n",
      "Epoch 40/300\n",
      "10/10 [==============================] - 4s 431ms/step - loss: 0.0307 - accuracy: 1.0000 - val_loss: 0.4839 - val_accuracy: 0.8077\n",
      "Epoch 41/300\n",
      "10/10 [==============================] - 4s 431ms/step - loss: 0.0305 - accuracy: 1.0000 - val_loss: 0.4829 - val_accuracy: 0.8269\n",
      "Epoch 42/300\n",
      "10/10 [==============================] - 4s 431ms/step - loss: 0.0257 - accuracy: 1.0000 - val_loss: 0.4822 - val_accuracy: 0.8269\n",
      "Epoch 43/300\n",
      "10/10 [==============================] - 4s 434ms/step - loss: 0.0296 - accuracy: 1.0000 - val_loss: 0.4836 - val_accuracy: 0.8077\n",
      "Epoch 44/300\n",
      "10/10 [==============================] - 4s 437ms/step - loss: 0.0283 - accuracy: 1.0000 - val_loss: 0.4836 - val_accuracy: 0.8077\n",
      "Epoch 45/300\n",
      "10/10 [==============================] - 4s 436ms/step - loss: 0.0269 - accuracy: 1.0000 - val_loss: 0.4838 - val_accuracy: 0.8077\n",
      "Epoch 46/300\n",
      "10/10 [==============================] - 4s 430ms/step - loss: 0.0282 - accuracy: 1.0000 - val_loss: 0.4836 - val_accuracy: 0.8077\n",
      "Epoch 47/300\n",
      "10/10 [==============================] - 4s 429ms/step - loss: 0.0275 - accuracy: 1.0000 - val_loss: 0.4832 - val_accuracy: 0.8269\n",
      "Epoch 48/300\n",
      "10/10 [==============================] - 4s 435ms/step - loss: 0.0276 - accuracy: 1.0000 - val_loss: 0.4833 - val_accuracy: 0.8077\n",
      "Epoch 49/300\n",
      "10/10 [==============================] - 4s 431ms/step - loss: 0.0268 - accuracy: 1.0000 - val_loss: 0.4834 - val_accuracy: 0.8077\n",
      "Epoch 50/300\n",
      "10/10 [==============================] - 4s 433ms/step - loss: 0.0245 - accuracy: 1.0000 - val_loss: 0.4836 - val_accuracy: 0.8077\n",
      "Epoch 51/300\n",
      "10/10 [==============================] - 4s 432ms/step - loss: 0.0289 - accuracy: 1.0000 - val_loss: 0.4837 - val_accuracy: 0.8077\n",
      "Epoch 52/300\n",
      "10/10 [==============================] - 4s 435ms/step - loss: 0.0272 - accuracy: 1.0000 - val_loss: 0.4837 - val_accuracy: 0.8077\n",
      "Epoch 53/300\n",
      "10/10 [==============================] - 4s 432ms/step - loss: 0.0277 - accuracy: 1.0000 - val_loss: 0.4838 - val_accuracy: 0.8077\n",
      "Epoch 54/300\n",
      "10/10 [==============================] - 4s 432ms/step - loss: 0.0327 - accuracy: 1.0000 - val_loss: 0.4839 - val_accuracy: 0.8077\n",
      "Epoch 55/300\n",
      "10/10 [==============================] - 4s 434ms/step - loss: 0.0251 - accuracy: 1.0000 - val_loss: 0.4837 - val_accuracy: 0.8077\n",
      "Epoch 56/300\n",
      "10/10 [==============================] - 4s 438ms/step - loss: 0.0260 - accuracy: 1.0000 - val_loss: 0.4836 - val_accuracy: 0.8077\n",
      "Epoch 57/300\n",
      "10/10 [==============================] - 4s 432ms/step - loss: 0.0250 - accuracy: 1.0000 - val_loss: 0.4836 - val_accuracy: 0.8077\n",
      "Epoch 58/300\n",
      "10/10 [==============================] - 4s 431ms/step - loss: 0.0254 - accuracy: 1.0000 - val_loss: 0.4837 - val_accuracy: 0.8077\n",
      "Epoch 59/300\n",
      "10/10 [==============================] - 4s 433ms/step - loss: 0.0234 - accuracy: 1.0000 - val_loss: 0.4836 - val_accuracy: 0.8077\n",
      "Epoch 60/300\n",
      "10/10 [==============================] - 4s 429ms/step - loss: 0.0282 - accuracy: 1.0000 - val_loss: 0.4836 - val_accuracy: 0.8077\n",
      "Epoch 61/300\n",
      "10/10 [==============================] - 4s 437ms/step - loss: 0.0265 - accuracy: 1.0000 - val_loss: 0.4836 - val_accuracy: 0.8077\n",
      "Epoch 62/300\n",
      "10/10 [==============================] - 4s 432ms/step - loss: 0.0261 - accuracy: 1.0000 - val_loss: 0.4835 - val_accuracy: 0.8077\n",
      "------------------------------------------------------------------------\n",
      "Score for fold 1: loss of 0.61; accuracy of 76.92%\n",
      "------------------------------------------------------------------------\n",
      "\n",
      "------------------------------------------------------------------------\n",
      "Training for fold 2/3 ...\n",
      "------------------------------------------------------------------------\n",
      "Epoch 1/300\n",
      "10/10 [==============================] - 22s 915ms/step - loss: 0.5677 - accuracy: 0.9034 - val_loss: 0.3257 - val_accuracy: 0.9423\n",
      "Epoch 2/300\n",
      "10/10 [==============================] - 4s 432ms/step - loss: 0.4786 - accuracy: 0.9134 - val_loss: 0.2864 - val_accuracy: 0.9231\n",
      "Epoch 3/300\n",
      "10/10 [==============================] - 4s 434ms/step - loss: 0.4114 - accuracy: 0.9261 - val_loss: 0.2665 - val_accuracy: 0.9231\n",
      "Epoch 4/300\n",
      "10/10 [==============================] - 4s 432ms/step - loss: 0.3096 - accuracy: 0.9801 - val_loss: 0.2430 - val_accuracy: 0.9423\n",
      "Epoch 5/300\n",
      "10/10 [==============================] - 4s 435ms/step - loss: 0.2248 - accuracy: 0.9833 - val_loss: 0.2423 - val_accuracy: 0.9423\n",
      "Epoch 6/300\n",
      "10/10 [==============================] - 4s 436ms/step - loss: 0.2660 - accuracy: 0.9579 - val_loss: 0.2274 - val_accuracy: 0.9423\n",
      "Epoch 7/300\n",
      "10/10 [==============================] - 4s 431ms/step - loss: 0.2187 - accuracy: 0.9679 - val_loss: 0.2268 - val_accuracy: 0.9423\n",
      "Epoch 8/300\n",
      "10/10 [==============================] - 4s 437ms/step - loss: 0.2019 - accuracy: 0.9727 - val_loss: 0.2203 - val_accuracy: 0.9231\n",
      "Epoch 9/300\n",
      "10/10 [==============================] - 4s 436ms/step - loss: 0.1797 - accuracy: 0.9922 - val_loss: 0.2168 - val_accuracy: 0.9231\n",
      "Epoch 10/300\n",
      "10/10 [==============================] - 4s 433ms/step - loss: 0.1725 - accuracy: 0.9882 - val_loss: 0.2161 - val_accuracy: 0.9231\n",
      "Epoch 11/300\n",
      "10/10 [==============================] - 4s 436ms/step - loss: 0.1410 - accuracy: 0.9889 - val_loss: 0.2136 - val_accuracy: 0.9231\n",
      "Epoch 12/300\n",
      "10/10 [==============================] - 4s 436ms/step - loss: 0.1678 - accuracy: 0.9729 - val_loss: 0.2129 - val_accuracy: 0.9231\n",
      "Epoch 13/300\n",
      "10/10 [==============================] - 4s 432ms/step - loss: 0.1222 - accuracy: 0.9910 - val_loss: 0.2127 - val_accuracy: 0.9231\n",
      "Epoch 14/300\n",
      "10/10 [==============================] - 4s 436ms/step - loss: 0.1577 - accuracy: 0.9788 - val_loss: 0.2115 - val_accuracy: 0.9231\n",
      "Epoch 15/300\n",
      "10/10 [==============================] - 4s 432ms/step - loss: 0.1282 - accuracy: 0.9899 - val_loss: 0.2120 - val_accuracy: 0.9231\n",
      "Epoch 16/300\n",
      "10/10 [==============================] - 4s 439ms/step - loss: 0.1292 - accuracy: 0.9949 - val_loss: 0.2143 - val_accuracy: 0.9231\n",
      "Epoch 17/300\n",
      "10/10 [==============================] - 4s 434ms/step - loss: 0.0990 - accuracy: 0.9940 - val_loss: 0.2112 - val_accuracy: 0.9231\n",
      "Epoch 18/300\n",
      "10/10 [==============================] - 4s 435ms/step - loss: 0.1145 - accuracy: 0.9949 - val_loss: 0.2109 - val_accuracy: 0.9231\n",
      "Epoch 19/300\n",
      "10/10 [==============================] - 4s 433ms/step - loss: 0.0967 - accuracy: 0.9964 - val_loss: 0.2109 - val_accuracy: 0.9231\n",
      "Epoch 20/300\n",
      "10/10 [==============================] - 4s 438ms/step - loss: 0.1147 - accuracy: 0.9895 - val_loss: 0.2099 - val_accuracy: 0.9231\n",
      "Epoch 21/300\n",
      "10/10 [==============================] - 4s 435ms/step - loss: 0.1267 - accuracy: 0.9842 - val_loss: 0.2131 - val_accuracy: 0.9231\n",
      "Epoch 22/300\n",
      "10/10 [==============================] - 4s 434ms/step - loss: 0.1244 - accuracy: 0.9935 - val_loss: 0.2089 - val_accuracy: 0.9231\n",
      "Epoch 23/300\n",
      "10/10 [==============================] - 4s 433ms/step - loss: 0.1063 - accuracy: 0.9845 - val_loss: 0.2142 - val_accuracy: 0.9231\n",
      "Epoch 24/300\n",
      "10/10 [==============================] - 4s 434ms/step - loss: 0.1138 - accuracy: 0.9901 - val_loss: 0.2119 - val_accuracy: 0.9231\n",
      "Epoch 25/300\n",
      "10/10 [==============================] - 4s 434ms/step - loss: 0.0988 - accuracy: 0.9816 - val_loss: 0.2145 - val_accuracy: 0.9231\n",
      "Epoch 26/300\n",
      "10/10 [==============================] - 4s 436ms/step - loss: 0.0919 - accuracy: 0.9826 - val_loss: 0.2119 - val_accuracy: 0.9231\n",
      "Epoch 27/300\n",
      "10/10 [==============================] - 4s 436ms/step - loss: 0.0818 - accuracy: 0.9880 - val_loss: 0.2116 - val_accuracy: 0.9231\n",
      "Epoch 28/300\n",
      "10/10 [==============================] - 4s 432ms/step - loss: 0.0817 - accuracy: 0.9880 - val_loss: 0.2107 - val_accuracy: 0.9231\n",
      "Epoch 29/300\n",
      "10/10 [==============================] - 4s 433ms/step - loss: 0.0805 - accuracy: 0.9924 - val_loss: 0.2145 - val_accuracy: 0.9231\n",
      "Epoch 30/300\n",
      "10/10 [==============================] - 4s 435ms/step - loss: 0.0826 - accuracy: 0.9892 - val_loss: 0.2140 - val_accuracy: 0.9231\n",
      "Epoch 31/300\n",
      "10/10 [==============================] - 4s 435ms/step - loss: 0.0696 - accuracy: 0.9892 - val_loss: 0.2149 - val_accuracy: 0.9231\n",
      "Epoch 32/300\n",
      "10/10 [==============================] - 4s 432ms/step - loss: 0.0873 - accuracy: 0.9867 - val_loss: 0.2136 - val_accuracy: 0.9231\n",
      "Epoch 33/300\n",
      "10/10 [==============================] - 4s 431ms/step - loss: 0.1001 - accuracy: 0.9741 - val_loss: 0.2137 - val_accuracy: 0.9231\n",
      "Epoch 34/300\n",
      "10/10 [==============================] - 4s 435ms/step - loss: 0.0808 - accuracy: 0.9942 - val_loss: 0.2139 - val_accuracy: 0.9231\n",
      "Epoch 35/300\n",
      "10/10 [==============================] - 4s 432ms/step - loss: 0.0675 - accuracy: 0.9957 - val_loss: 0.2154 - val_accuracy: 0.9231\n",
      "Epoch 36/300\n",
      "10/10 [==============================] - 4s 437ms/step - loss: 0.1116 - accuracy: 0.9656 - val_loss: 0.2149 - val_accuracy: 0.9231\n",
      "Epoch 37/300\n",
      "10/10 [==============================] - 4s 435ms/step - loss: 0.0689 - accuracy: 0.9949 - val_loss: 0.2152 - val_accuracy: 0.9231\n",
      "Epoch 38/300\n",
      "10/10 [==============================] - 4s 435ms/step - loss: 0.0746 - accuracy: 0.9901 - val_loss: 0.2155 - val_accuracy: 0.9231\n",
      "Epoch 39/300\n",
      "10/10 [==============================] - 4s 432ms/step - loss: 0.0631 - accuracy: 0.9964 - val_loss: 0.2152 - val_accuracy: 0.9231\n",
      "Epoch 40/300\n",
      "10/10 [==============================] - 4s 429ms/step - loss: 0.0643 - accuracy: 0.9935 - val_loss: 0.2146 - val_accuracy: 0.9231\n",
      "Epoch 41/300\n",
      "10/10 [==============================] - 4s 434ms/step - loss: 0.0838 - accuracy: 0.9852 - val_loss: 0.2161 - val_accuracy: 0.9231\n",
      "Epoch 42/300\n",
      "10/10 [==============================] - 4s 432ms/step - loss: 0.1136 - accuracy: 0.9656 - val_loss: 0.2153 - val_accuracy: 0.9231\n",
      "------------------------------------------------------------------------\n",
      "Score for fold 2: loss of 0.63; accuracy of 78.85%\n",
      "------------------------------------------------------------------------\n",
      "\n",
      "------------------------------------------------------------------------\n",
      "Training for fold 3/3 ...\n",
      "------------------------------------------------------------------------\n",
      "Epoch 1/300\n",
      "10/10 [==============================] - 22s 913ms/step - loss: 0.5089 - accuracy: 0.8674 - val_loss: 0.3513 - val_accuracy: 0.9038\n",
      "Epoch 2/300\n",
      "10/10 [==============================] - 4s 436ms/step - loss: 0.3775 - accuracy: 0.9353 - val_loss: 0.3189 - val_accuracy: 0.9231\n",
      "Epoch 3/300\n",
      "10/10 [==============================] - 4s 434ms/step - loss: 0.2719 - accuracy: 0.9745 - val_loss: 0.3409 - val_accuracy: 0.9038\n",
      "Epoch 4/300\n",
      "10/10 [==============================] - 4s 441ms/step - loss: 0.2768 - accuracy: 0.9330 - val_loss: 0.3217 - val_accuracy: 0.9231\n",
      "Epoch 5/300\n",
      "10/10 [==============================] - 4s 436ms/step - loss: 0.2325 - accuracy: 0.9838 - val_loss: 0.2873 - val_accuracy: 0.9231\n",
      "Epoch 6/300\n",
      "10/10 [==============================] - 4s 433ms/step - loss: 0.2461 - accuracy: 0.9589 - val_loss: 0.2792 - val_accuracy: 0.9231\n",
      "Epoch 7/300\n",
      "10/10 [==============================] - 4s 435ms/step - loss: 0.1938 - accuracy: 0.9614 - val_loss: 0.2798 - val_accuracy: 0.9231\n",
      "Epoch 8/300\n",
      "10/10 [==============================] - 4s 436ms/step - loss: 0.2102 - accuracy: 0.9647 - val_loss: 0.2704 - val_accuracy: 0.9231\n",
      "Epoch 9/300\n",
      "10/10 [==============================] - 4s 434ms/step - loss: 0.1574 - accuracy: 0.9887 - val_loss: 0.2868 - val_accuracy: 0.9423\n",
      "Epoch 10/300\n",
      "10/10 [==============================] - 4s 431ms/step - loss: 0.1381 - accuracy: 0.9855 - val_loss: 0.2741 - val_accuracy: 0.9231\n",
      "Epoch 11/300\n",
      "10/10 [==============================] - 4s 436ms/step - loss: 0.1395 - accuracy: 0.9920 - val_loss: 0.2699 - val_accuracy: 0.9038\n",
      "Epoch 12/300\n",
      "10/10 [==============================] - 4s 434ms/step - loss: 0.1307 - accuracy: 0.9946 - val_loss: 0.2740 - val_accuracy: 0.9231\n",
      "Epoch 13/300\n",
      "10/10 [==============================] - 4s 433ms/step - loss: 0.1440 - accuracy: 0.9864 - val_loss: 0.2786 - val_accuracy: 0.9231\n",
      "Epoch 14/300\n",
      "10/10 [==============================] - 4s 436ms/step - loss: 0.1286 - accuracy: 0.9932 - val_loss: 0.2676 - val_accuracy: 0.9038\n",
      "Epoch 15/300\n",
      "10/10 [==============================] - 4s 438ms/step - loss: 0.1393 - accuracy: 0.9860 - val_loss: 0.2748 - val_accuracy: 0.9038\n",
      "Epoch 16/300\n",
      "10/10 [==============================] - 4s 438ms/step - loss: 0.1220 - accuracy: 0.9913 - val_loss: 0.2665 - val_accuracy: 0.9038\n",
      "Epoch 17/300\n",
      "10/10 [==============================] - 4s 433ms/step - loss: 0.0888 - accuracy: 0.9975 - val_loss: 0.2745 - val_accuracy: 0.9038\n",
      "Epoch 18/300\n",
      "10/10 [==============================] - 4s 435ms/step - loss: 0.0995 - accuracy: 0.9982 - val_loss: 0.2727 - val_accuracy: 0.9038\n",
      "Epoch 19/300\n",
      "10/10 [==============================] - 4s 435ms/step - loss: 0.0927 - accuracy: 0.9957 - val_loss: 0.2735 - val_accuracy: 0.9038\n",
      "Epoch 20/300\n",
      "10/10 [==============================] - 4s 435ms/step - loss: 0.1087 - accuracy: 0.9946 - val_loss: 0.2722 - val_accuracy: 0.9038\n",
      "Epoch 21/300\n",
      "10/10 [==============================] - 4s 437ms/step - loss: 0.1028 - accuracy: 0.9885 - val_loss: 0.2686 - val_accuracy: 0.9038\n",
      "Epoch 22/300\n",
      "10/10 [==============================] - 4s 436ms/step - loss: 0.0831 - accuracy: 0.9967 - val_loss: 0.2720 - val_accuracy: 0.9038\n",
      "Epoch 23/300\n",
      "10/10 [==============================] - 4s 437ms/step - loss: 0.0789 - accuracy: 0.9967 - val_loss: 0.2763 - val_accuracy: 0.9038\n",
      "Epoch 24/300\n",
      "10/10 [==============================] - 4s 436ms/step - loss: 0.0795 - accuracy: 0.9967 - val_loss: 0.2770 - val_accuracy: 0.9038\n",
      "Epoch 25/300\n",
      "10/10 [==============================] - 4s 430ms/step - loss: 0.0845 - accuracy: 0.9988 - val_loss: 0.2696 - val_accuracy: 0.9038\n",
      "Epoch 26/300\n",
      "10/10 [==============================] - 4s 437ms/step - loss: 0.0763 - accuracy: 0.9957 - val_loss: 0.2775 - val_accuracy: 0.9038\n",
      "Epoch 27/300\n",
      "10/10 [==============================] - 4s 434ms/step - loss: 0.0779 - accuracy: 0.9975 - val_loss: 0.2723 - val_accuracy: 0.9038\n",
      "Epoch 28/300\n",
      "10/10 [==============================] - 4s 430ms/step - loss: 0.0618 - accuracy: 0.9957 - val_loss: 0.2729 - val_accuracy: 0.9038\n",
      "Epoch 29/300\n",
      "10/10 [==============================] - 4s 433ms/step - loss: 0.0779 - accuracy: 0.9932 - val_loss: 0.2737 - val_accuracy: 0.9038\n",
      "Epoch 30/300\n",
      "10/10 [==============================] - 4s 435ms/step - loss: 0.0714 - accuracy: 0.9982 - val_loss: 0.2724 - val_accuracy: 0.9038\n",
      "Epoch 31/300\n",
      "10/10 [==============================] - 4s 434ms/step - loss: 0.1004 - accuracy: 0.9828 - val_loss: 0.2736 - val_accuracy: 0.9038\n",
      "Epoch 32/300\n",
      "10/10 [==============================] - 4s 433ms/step - loss: 0.0796 - accuracy: 0.9913 - val_loss: 0.2739 - val_accuracy: 0.9038\n",
      "Epoch 33/300\n",
      "10/10 [==============================] - 4s 429ms/step - loss: 0.0678 - accuracy: 0.9982 - val_loss: 0.2734 - val_accuracy: 0.9038\n",
      "Epoch 34/300\n",
      "10/10 [==============================] - 4s 434ms/step - loss: 0.0866 - accuracy: 0.9932 - val_loss: 0.2734 - val_accuracy: 0.9038\n",
      "Epoch 35/300\n",
      "10/10 [==============================] - 4s 434ms/step - loss: 0.0813 - accuracy: 0.9885 - val_loss: 0.2738 - val_accuracy: 0.9038\n",
      "Epoch 36/300\n",
      "10/10 [==============================] - 4s 434ms/step - loss: 0.0806 - accuracy: 0.9967 - val_loss: 0.2731 - val_accuracy: 0.9038\n",
      "------------------------------------------------------------------------\n",
      "Score for fold 3: loss of 0.62; accuracy of 75.0%\n",
      "------------------------------------------------------------------------\n",
      "\n",
      "------------------------------------------------------------------------\n",
      "Score per fold\n",
      "------------------------------------------------------------------------\n",
      "> Fold 1 - Loss: 0.61 - Accuracy: 0.77%\n",
      "------------------------------------------------------------------------\n",
      "> Fold 2 - Loss: 0.63 - Accuracy: 0.79%\n",
      "------------------------------------------------------------------------\n",
      "> Fold 3 - Loss: 0.62 - Accuracy: 0.75%\n",
      "------------------------------------------------------------------------\n",
      "Average scores for all folds (LR = 0.001, mtm = 0.8):\n",
      "> Accuracy: 0.77 (+- 0.02)\n",
      "> Loss: 0.62 (+- 0.01)\n",
      "------------------------------------------------------------------------\n",
      "\n",
      "\n"
     ]
    }
   ],
   "source": [
    "tot_comb = len(learn_rate) * len(momentum)\n",
    "glob_param = np.empty([tot_comb, 2])\n",
    "\n",
    "history_list = []\n",
    "scores_glob_array = np.empty([tot_comb, n_folds, 2])\n",
    "\n",
    "for idx, x in enumerate(itertools.product(learn_rate, momentum)):\n",
    "    learn_rate = x[0]\n",
    "    momentum = x[1]\n",
    "\n",
    "    # Generate a print\n",
    "    print('------------------------------------------------------------------------')\n",
    "    print(f'Training for combination {idx + 1}/{tot_comb} ...')\n",
    "    print(f'Learning rate = {learn_rate}')\n",
    "    print(f'Momentum = {momentum}')\n",
    "    print('------------------------------------------------------------------------')\n",
    "\n",
    "    history_array = np.array([])\n",
    "    scores_array = np.empty([n_folds, 2])\n",
    "\n",
    "    glob_param[idx, 0] = learn_rate\n",
    "    glob_param[idx, 1] = momentum\n",
    "\n",
    "    for fold in range(n_folds):\n",
    "        # Generate a print\n",
    "        print('------------------------------------------------------------------------')\n",
    "        print(f'Training for fold {fold + 1}/{n_folds} ...')\n",
    "        print('------------------------------------------------------------------------')\n",
    "\n",
    "        # Generate the fold sample for train-test\n",
    "        X_train_cc, X_train_mlo, Y_train, X_test_cc, X_test_mlo, Y_test = part_traintest(X_traintest_cc, X_traintest_mlo, Y_traintest, rand_seed + fold, frac_test)\n",
    "        \n",
    "        # Define the model architecture\n",
    "        model_2ramas = DenseNet_2Ramas(model_cc, model_mlo, rand_seed, learn_rate, momentum)\n",
    "        \n",
    "        # Fit data to model\n",
    "        history = model_2ramas.fit([X_train_cc, X_train_mlo], Y_train,\n",
    "                                  batch_size = batch_size,\n",
    "                                  epochs = no_epochs,\n",
    "                                  validation_data = ([X_test_cc, X_test_mlo], Y_test),\n",
    "                                  class_weight = class_weight,\n",
    "                                  verbose = 1,\n",
    "                                  callbacks = [early_stopping, reduce_lr])\n",
    "\n",
    "        # Generate generalization metrics\n",
    "        scores_array[fold, :] = model_2ramas.evaluate([X_val_cc, X_val_mlo], Y_val, verbose = 0)\n",
    "        print('------------------------------------------------------------------------')\n",
    "        print(f'Score for fold {fold + 1}: {model_2ramas.metrics_names[0]} of {round(scores_array[fold, 0], 2)}; {model_2ramas.metrics_names[1]} of {round(scores_array[fold, 1]*100, 2)}%')\n",
    "        print('------------------------------------------------------------------------')\n",
    "        print('')\n",
    "        \n",
    "        # Append history callback into array\n",
    "        history_array = np.append(history_array, [history])\n",
    "        \n",
    "    # == Provide average scores ==\n",
    "    print('------------------------------------------------------------------------')\n",
    "    print('Score per fold')\n",
    "    for i in range(0, scores_array.shape[0]):\n",
    "        print('------------------------------------------------------------------------')\n",
    "        print(f'> Fold {i + 1} - Loss: {round(scores_array[i, 0], 2)} - Accuracy: {round(scores_array[i, 1], 2)}%')\n",
    "    print('------------------------------------------------------------------------')\n",
    "    print(f'Average scores for all folds (LR = {learn_rate}, mtm = {momentum}):')\n",
    "    print(f'> Accuracy: {round(np.mean(scores_array[:, 1]), 2)} (+- {round(np.std(scores_array[:, 1]), 2)})')\n",
    "    print(f'> Loss: {round(np.mean(scores_array[:, 0]), 2)} (+- {round(np.std(scores_array[:, 0]), 2)})')\n",
    "    print('------------------------------------------------------------------------')\n",
    "    print('')\n",
    "    print('')\n",
    "\n",
    "    idx_best_hist = np.argmax(scores_array[:, 1])\n",
    "    history_list.append(history_array[idx_best_hist])\n",
    "    \n",
    "    scores_glob_array[idx, :, :] = scores_array"
   ]
  },
  {
   "cell_type": "markdown",
   "id": "brutal-education",
   "metadata": {
    "id": "super-progressive"
   },
   "source": [
    "## Representación de resultados"
   ]
  },
  {
   "cell_type": "markdown",
   "id": "documented-medicine",
   "metadata": {
    "id": "streaming-recruitment"
   },
   "source": [
    "Definimos una serie de funciones auxiliares para facilitar la visualización de resultados (representación de la evolución de las métricas durante el proceso de entrenamiento y resultados de la matriz de confusión finalmente obtenida)."
   ]
  },
  {
   "cell_type": "code",
   "execution_count": 14,
   "id": "strategic-lindsay",
   "metadata": {
    "id": "published-lingerie"
   },
   "outputs": [],
   "source": [
    "def plot_metrics(history):\n",
    "    \"\"\"\n",
    "    Function that plots the metrics from the training process\n",
    "        - history_array is the array of histories generated during the training process\n",
    "        - no_epochs is number of epochs fixed for the training process\n",
    "    Returns:\n",
    "        - accuracy is the output array of accuracies\n",
    "        - val_accuracy is the output array of validation accuracies\n",
    "        - loss is the output array of losses\n",
    "        - val_loss is the output array of validation losses\n",
    "    \"\"\"\n",
    "    fig = plt.figure(figsize = (15, 5))\n",
    "    plt.subplot(1, 2, 1)\n",
    "    plt.plot(history.history['accuracy'])\n",
    "    plt.plot(history.history['val_accuracy'])\n",
    "    plt.title('Model Accuracy')\n",
    "    plt.ylabel('Accuracy')\n",
    "    plt.xlabel('Epoch')\n",
    "    plt.legend(['Train', 'Test'], loc = 'upper left')\n",
    "    \n",
    "    plt.subplot(1, 2, 2)\n",
    "    plt.plot(history.history['loss'])\n",
    "    plt.plot(history.history['val_accuracy'])\n",
    "    plt.title('Model Loss')\n",
    "    plt.ylabel('Loss')\n",
    "    plt.xlabel('Epoch')\n",
    "    plt.legend(['Train', 'Test'], loc = 'upper right')\n",
    "    \n",
    "    plt.show()\n",
    "    return\n",
    "\n",
    "def print_cm(cm, labels, hide_zeroes=False, hide_diagonal=False, hide_threshold=None):\n",
    "    \"\"\"\n",
    "    Credit to:\n",
    "    https://gist.github.com/zachguo/10296432\n",
    "    \n",
    "    Function that makes a pretty print for confusion matrixes\n",
    "        - cm is the array of histories generated during the training process\n",
    "        - labels is number of epochs fixed for the training process\n",
    "        - hide_zeroes is a boolean that allows the user to hide the zeroes in the matrix\n",
    "        - hide_diagonal is a boolean that allows the user to hide the diagonal in the matrix\n",
    "        - hide_threshold is a number that allows the user to hide results in the matrix below that value\n",
    "    \"\"\"    columnwidth = max([len(x) for x in labels] + [5])  # 5 is value length\n",
    "    empty_cell = \" \" * columnwidth\n",
    "    # Print header\n",
    "    print(\"    \" + empty_cell, end=\" \")\n",
    "    for label in labels:\n",
    "        print(\"%{0}s\".format(columnwidth) % label, end=\" \")\n",
    "    print()\n",
    "    # Print rows\n",
    "    for i, label1 in enumerate(labels):\n",
    "        print(\"    %{0}s\".format(columnwidth) % label1, end=\" \")\n",
    "        for j in range(len(labels)):\n",
    "            cell = \"%{0}.1f\".format(columnwidth) % cm[i, j]\n",
    "            if hide_zeroes:\n",
    "                cell = cell if float(cm[i, j]) != 0 else empty_cell\n",
    "            if hide_diagonal:\n",
    "                cell = cell if i != j else empty_cell\n",
    "            if hide_threshold:\n",
    "                cell = cell if cm[i, j] > hide_threshold else empty_cell\n",
    "            print(cell, end=\" \")\n",
    "        print()\n",
    "    return"
   ]
  },
  {
   "cell_type": "markdown",
   "id": "upper-breath",
   "metadata": {
    "id": "n5Z7WzPF1uss"
   },
   "source": [
    "Mostramos por pantalla los resultados medios de todas las combinaciones de parámetros y elegimos el modelo que mejores resultados ofrece."
   ]
  },
  {
   "cell_type": "code",
   "execution_count": 15,
   "id": "homeless-speed",
   "metadata": {
    "colab": {
     "base_uri": "https://localhost:8080/"
    },
    "executionInfo": {
     "elapsed": 1874600,
     "status": "ok",
     "timestamp": 1621185207140,
     "user": {
      "displayName": "Iago Veiras Lens",
      "photoUrl": "",
      "userId": "00127513713424041949"
     },
     "user_tz": -120
    },
    "id": "LNmPI3ko1ukf",
    "outputId": "1950dbd4-f9c6-4e6c-ad61-588cd276f1d7"
   },
   "outputs": [
    {
     "name": "stdout",
     "output_type": "stream",
     "text": [
      "Resultados promedios del entrenamiento DenseNet-CC+MLO:\n",
      "- LR=0.001 / mom=0.5:\tAcc=0.78 (+- 0.01) - Loss=0.61 (+- 0.01)\n",
      "- LR=0.001 / mom=0.8:\tAcc=0.77 (+- 0.02) - Loss=0.62 (+- 0.01)\n",
      "\n",
      "El mejor resultado para la DenseNet-CC+MLO se obtiene para LR = 0.001 y momentum = 0.5.\n"
     ]
    }
   ],
   "source": [
    "print(f'Resultados promedios del entrenamiento DenseNet-CC+MLO:')\n",
    "for i in range(len(glob_param)):\n",
    "    print(f'- LR={glob_param[i, 0]} / mom={glob_param[i, 1]}:\\tAcc={round(np.mean(scores_glob_array[i, :, 1]), 2)} (+- {round(np.std(scores_glob_array[i, :, 1]), 2)}) - Loss={round(np.mean(scores_glob_array[i, :, 0]), 2)} (+- {round(np.std(scores_glob_array[i, :, 0]), 2)})')\n",
    "\n",
    "idx_best = np.argmax(np.mean(scores_glob_array, 1)[:, 1])\n",
    "history_best = history_list[idx_best]\n",
    "model_best = history_best.model\n",
    "print(f'\\nEl mejor resultado para la DenseNet-CC+MLO se obtiene para LR = {glob_param[idx_best, 0]} y momentum = {glob_param[idx_best, 1]}.')"
   ]
  },
  {
   "cell_type": "markdown",
   "id": "wired-madison",
   "metadata": {
    "executionInfo": {
     "elapsed": 2276,
     "status": "ok",
     "timestamp": 1620075964551,
     "user": {
      "displayName": "Duun V",
      "photoUrl": "https://lh3.googleusercontent.com/a-/AOh14GipsnLzW9bWFJbKNrxY-F-xi7XKh0HhowJGi0hF9A=s64",
      "userId": "10921869077997462696"
     },
     "user_tz": -120
    },
    "id": "marked-decimal"
   },
   "source": [
    "Visualizamos la evolución de las métricas durante el proceso de entrenamiento de las redes, haciendo la media por época de las distintas iteraciones."
   ]
  },
  {
   "cell_type": "code",
   "execution_count": 16,
   "id": "fatty-fireplace",
   "metadata": {
    "colab": {
     "base_uri": "https://localhost:8080/",
     "height": 350
    },
    "executionInfo": {
     "elapsed": 1875046,
     "status": "ok",
     "timestamp": 1621185207599,
     "user": {
      "displayName": "Iago Veiras Lens",
      "photoUrl": "",
      "userId": "00127513713424041949"
     },
     "user_tz": -120
    },
    "id": "racial-tribute",
    "outputId": "c3df1e7a-60af-4764-aa06-aa2892651588"
   },
   "outputs": [
    {
     "data": {
      "image/png": "[encoded data removed]",
      "text/plain": [
       "<Figure size 1080x360 with 2 Axes>"
      ]
     },
     "metadata": {
      "needs_background": "light",
      "tags": []
     },
     "output_type": "display_data"
    }
   ],
   "source": [
    "plot_metrics(history_best)"
   ]
  },
  {
   "cell_type": "markdown",
   "id": "second-vitamin",
   "metadata": {
    "id": "t_0z4ogBWHxS"
   },
   "source": [
    "Mostramos la matriz de confusión de la última iteración por pantalla."
   ]
  },
  {
   "cell_type": "code",
   "execution_count": 17,
   "id": "ordinary-indication",
   "metadata": {
    "colab": {
     "base_uri": "https://localhost:8080/"
    },
    "executionInfo": {
     "elapsed": 1880397,
     "status": "ok",
     "timestamp": 1621185212960,
     "user": {
      "displayName": "Iago Veiras Lens",
      "photoUrl": "",
      "userId": "00127513713424041949"
     },
     "user_tz": -120
    },
    "id": "relevant-technique",
    "outputId": "e55ee5bd-0dda-42cc-8e1b-2f18a3270441"
   },
   "outputs": [
    {
     "name": "stdout",
     "output_type": "stream",
     "text": [
      "            benigno seguimiento  maligno \n",
      "    benigno    25.0         1.0      2.0 \n",
      "seguimiento     2.0         2.0		0.0 \n",
      "    maligno     5.0         1.0     14.0 \n"
     ]
    }
   ],
   "source": [
    "conf_matrix = metrics.confusion_matrix(Y_val.argmax(axis = 1), model_best.predict([X_val_cc, X_val_mlo]).argmax(axis = 1))\n",
    "print_cm(conf_matrix, list(dict_valores.keys()))"
   ]
  },
  {
   "cell_type": "markdown",
   "id": "decimal-indicator",
   "metadata": {
    "id": "viral-constitutional"
   },
   "source": [
    "Mostramos las métricas de resultados según categoría para poder evaluar el desempeño de la red en cada caso."
   ]
  },
  {
   "cell_type": "code",
   "execution_count": 18,
   "id": "recent-thanksgiving",
   "metadata": {
    "colab": {
     "base_uri": "https://localhost:8080/"
    },
    "executionInfo": {
     "elapsed": 1881658,
     "status": "ok",
     "timestamp": 1621185214230,
     "user": {
      "displayName": "Iago Veiras Lens",
      "photoUrl": "",
      "userId": "00127513713424041949"
     },
     "user_tz": -120
    },
    "id": "gross-aaron",
    "outputId": "4bfecfd9-984a-46b3-a8a9-b468409bdc6a"
   },
   "outputs": [
    {
     "name": "stdout",
     "output_type": "stream",
     "text": [
      "              precision    recall  f1-score   support\n",
      "\n",
      "     benigno       0.78      0.89      0.83        28\n",
      " seguimiento       0.50      0.50      0.50         4\n",
      "     maligno       0.88      0.70      0.78        20\n",
      "\n",
      "    accuracy                           0.79        52\n",
      "   macro avg       0.72      0.70      0.70        52\n",
      "weighted avg       0.80      0.79      0.79        52\n",
      "\n"
     ]
    }
   ],
   "source": [
    "classif_report = metrics.classification_report(Y_val.argmax(axis = 1), model_best.predict([X_val_cc, X_val_mlo]).argmax(axis = 1),\n",
    "                                               target_names = list(dict_valores.keys()))\n",
    "print(classif_report)"
   ]
  },
  {
   "cell_type": "markdown",
   "id": "structured-milwaukee",
   "metadata": {
    "id": "heavy-company"
   },
   "source": [
    "Guardamos el modelo entrenado para su uso en pasos posteriores."
   ]
  },
  {
   "cell_type": "code",
   "execution_count": 19,
   "id": "baking-delivery",
   "metadata": {
    "colab": {
     "base_uri": "https://localhost:8080/"
    },
    "executionInfo": {
     "elapsed": 2028807,
     "status": "ok",
     "timestamp": 1621185361388,
     "user": {
      "displayName": "Iago Veiras Lens",
      "photoUrl": "",
      "userId": "00127513713424041949"
     },
     "user_tz": -120
    },
    "id": "foreign-teens",
    "outputId": "45b2ba83-0a52-4cee-c62b-7e35d3ef4f36"
   },
   "outputs": [
    {
     "name": "stdout",
     "output_type": "stream",
     "text": [
      "INFO:tensorflow:Assets written to: /content/gdrive/MyDrive/Colab Notebooks/model_CC-MLO/assets\n"
     ]
    }
   ],
   "source": [
    "if google_colab:\n",
    "    file_path = '/content/gdrive/MyDrive/Colab Notebooks/model_best_CC-MLO'\n",
    "else:\n",
    "    file_path = './model_best_CC-MLO'\n",
    "K.models.save_model(model_best, file_path)"
   ]
  }
 ],
 "metadata": {
  "accelerator": "GPU",
  "colab": {
   "collapsed_sections": [],
   "name": "Optimización_DenseNet_2Ramas.ipynb",
   "provenance": []
  },
  "kernelspec": {
   "display_name": "Python 3",
   "language": "python",
   "name": "python3"
  },
  "language_info": {
   "codemirror_mode": {
    "name": "ipython",
    "version": 3
   },
   "file_extension": ".py",
   "mimetype": "text/x-python",
   "name": "python",
   "nbconvert_exporter": "python",
   "pygments_lexer": "ipython3",
   "version": "3.8.5"
  }
 },
 "nbformat": 4,
 "nbformat_minor": 5
}
